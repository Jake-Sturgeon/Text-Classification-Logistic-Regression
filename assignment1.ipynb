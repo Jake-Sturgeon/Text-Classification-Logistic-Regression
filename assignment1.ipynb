{
 "cells": [
  {
   "cell_type": "markdown",
   "metadata": {},
   "source": [
    "# [COM4513-6513] Assignment 1: Text Classification with Logistic Regression\n",
    "\n",
    "### Instructor: Nikos Aletras\n",
    "\n",
    "\n",
    "The goal of this assignment is to develop and test two text classification systems: \n",
    "\n",
    "- **Task 1:** sentiment analysis, in particular to predict the sentiment of movie review, i.e. positive or negative (binary classification).\n",
    "- **Task 2:** topic classification, to predict whether a news article is about International issues, Sports or Business (multiclass classification).\n",
    "\n",
    "\n",
    "For that purpose, you will implement:\n",
    "\n",
    "- Text processing methods for extracting Bag-Of-Word features, using (1) unigrams, bigrams and trigrams to obtain vector representations of documents. Two vector weighting schemes should be tested: (1) raw frequencies (**3 marks; 1 for each ngram type**); (2) tf.idf (**1 marks**). \n",
    "- Binary Logistic Regression classifiers that will be able to accurately classify movie reviews trained with (1) BOW-count (raw frequencies); and (2) BOW-tfidf (tf.idf weighted) for Task 1. \n",
    "- Multiclass Logistic Regression classifiers that will be able to accurately classify news articles trained with (1) BOW-count (raw frequencies); and (2) BOW-tfidf (tf.idf weighted) for Task 2. \n",
    "- The Stochastic Gradient Descent (SGD) algorithm to estimate the parameters of your Logistic Regression models. Your SGD algorithm should:\n",
    "    - Minimise the Binary Cross-entropy loss function for Task 1 (**3 marks**)\n",
    "    - Minimise the Categorical Cross-entropy loss function for Task 2 (**3 marks**)\n",
    "    - Use L2 regularisation (both tasks) (**1 mark**)\n",
    "    - Perform multiple passes (epochs) over the training data (**1 mark**)\n",
    "    - Randomise the order of training data after each pass (**1 mark**)\n",
    "    - Stop training if the difference between the current and previous validation loss is smaller than a threshold (**1 mark**)\n",
    "    - After each epoch print the training and development loss (**1 mark**)\n",
    "- Discuss how did you choose hyperparameters (e.g. learning rate and regularisation strength)?  (**2 marks; 0.5 for each model in each task**).\n",
    "- After training the LR models, plot the learning process (i.e. training and validation loss in each epoch) using a line plot (**1 mark; 0.5 for both BOW-count and BOW-tfidf LR models in each task**) and discuss if your model overfits/underfits/is about right.\n",
    "- Model interpretability by showing the most important features for each class (i.e. most positive/negative weights). Give the top 10 for each class and comment on whether they make sense (if they don't you might have a bug!).  If we were to apply the classifier we've learned into a different domain such laptop reviews or restaurant reviews, do you think these features would generalise well? Can you propose what features the classifier could pick up as important in the new domain? (**2 marks; 0.5 for BOW-count and BOW-tfidf LR models respectively in each task**)\n",
    "\n",
    "\n",
    "### Data - Task 1 \n",
    "\n",
    "The data you will use for Task 1 are taken from here: [http://www.cs.cornell.edu/people/pabo/movie-review-data/](http://www.cs.cornell.edu/people/pabo/movie-review-data/) and you can find it in the `./data_sentiment` folder in CSV format:\n",
    "\n",
    "- `data_sentiment/train.csv`: contains 1,400 reviews, 700 positive (label: 1) and 700 negative (label: 0) to be used for training.\n",
    "- `data_sentiment/dev.csv`: contains 200 reviews, 100 positive and 100 negative to be used for hyperparameter selection and monitoring the training process.\n",
    "- `data_sentiment/test.csv`: contains 400 reviews, 200 positive and 200 negative to be used for testing.\n",
    "\n",
    "### Data - Task 2\n",
    "\n",
    "The data you will use for Task 2 is a subset of the [AG News Corpus](http://groups.di.unipi.it/~gulli/AG_corpus_of_news_articles.html) and you can find it in the `./data_topic` folder in CSV format:\n",
    "\n",
    "- `data_topic/train.csv`: contains 2,400 news articles, 800 for each class to be used for training.\n",
    "- `data_topic/dev.csv`: contains 150 news articles, 50 for each class to be used for hyperparameter selection and monitoring the training process.\n",
    "- `data_topic/test.csv`: contains 900 news articles, 300 for each class to be used for testing.\n",
    "\n",
    "\n",
    "### Submission Instructions\n",
    "\n",
    "You should submit a Jupyter Notebook file (assignment1.ipynb) and an exported PDF version (you can do it from Jupyter: `File->Download as->PDF via Latex`).\n",
    "\n",
    "You are advised to follow the code structure given in this notebook by completing all given funtions. You can also write any auxilliary/helper functions (and arguments for the functions) that you might need but note that you can provide a full solution without any such functions. Similarly, you can just use only the packages imported below but you are free to use any functionality from the [Python Standard Library](https://docs.python.org/2/library/index.html), NumPy, SciPy and Pandas. You are not allowed to use any third-party library such as Scikit-learn (apart from metric functions already provided), NLTK, Spacy, Keras etc..\n",
    "\n",
    "Please make sure to comment your code. You should also mention if you've used Windows (not recommended) to write and test your code. There is no single correct answer on what your accuracy should be, but correct implementations usually achieve F1-scores around 80\\% or higher. The quality of the analysis of the results is as important as the accuracy itself. \n",
    "\n",
    "This assignment will be marked out of 20. It is worth 20\\% of your final grade in the module.\n",
    "\n",
    "The deadline for this assignment is **23:59 on Fri, 20 Mar 2020** and it needs to be submitted via MOLE. Standard departmental penalties for lateness will be applied. We use a range of strategies to detect [unfair means](https://www.sheffield.ac.uk/ssid/unfair-means/index), including Turnitin which helps detect plagiarism, so make sure you do not plagiarise.\n",
    "\n"
   ]
  },
  {
   "cell_type": "code",
   "execution_count": 301,
   "metadata": {
    "ExecuteTime": {
     "end_time": "2020-02-15T14:31:36.292691Z",
     "start_time": "2020-02-15T14:31:35.549108Z"
    }
   },
   "outputs": [],
   "source": [
    "# Total time to run the notebook is around 15/16 mins on a 2015 Macbook Pro\n",
    "from datetime import datetime \n",
    "now = datetime.now()\n",
    "\n",
    "import pandas as pd\n",
    "import numpy as np\n",
    "from collections import Counter\n",
    "import re\n",
    "import matplotlib.pyplot as plt\n",
    "from sklearn.metrics import accuracy_score, precision_score, recall_score, f1_score\n",
    "import random\n",
    "\n",
    "# fixing random seed for reproducibility\n",
    "random.seed(123)\n",
    "np.random.seed(123)\n"
   ]
  },
  {
   "cell_type": "markdown",
   "metadata": {},
   "source": [
    "## Load Raw texts and labels into arrays\n",
    "\n",
    "First, you need to load the training, development and test sets from their corresponding CSV files (tip: you can use Pandas dataframes)."
   ]
  },
  {
   "cell_type": "code",
   "execution_count": 302,
   "metadata": {
    "ExecuteTime": {
     "end_time": "2020-02-15T14:17:28.145788Z",
     "start_time": "2020-02-15T14:17:28.066100Z"
    }
   },
   "outputs": [],
   "source": [
    "# Load training data with named columns \n",
    "data_sentiment_train = pd.read_csv(\"data_sentiment/train.csv\", names=[\"Text\", \"Label\"])\n",
    "data_sentiment_test = pd.read_csv(\"data_sentiment/test.csv\", names=[\"Text\", \"Label\"])\n",
    "data_sentiment_dev = pd.read_csv(\"data_sentiment/dev.csv\", names=[\"Text\", \"Label\"])\n",
    "\n",
    "data_topic_train = pd.read_csv(\"data_topic/train.csv\", names=[\"Label\", \"Text\"])\n",
    "data_topic_test = pd.read_csv(\"data_topic/test.csv\", names=[\"Label\", \"Text\"])\n",
    "data_topic_dev = pd.read_csv(\"data_topic/dev.csv\", names=[\"Label\", \"Text\"])\n",
    "                                        "
   ]
  },
  {
   "cell_type": "markdown",
   "metadata": {},
   "source": [
    "If you use Pandas you can see a sample of the data."
   ]
  },
  {
   "cell_type": "code",
   "execution_count": 303,
   "metadata": {
    "ExecuteTime": {
     "end_time": "2020-02-15T14:17:28.900892Z",
     "start_time": "2020-02-15T14:17:28.891221Z"
    }
   },
   "outputs": [
    {
     "data": {
      "text/html": [
       "<div>\n",
       "<style scoped>\n",
       "    .dataframe tbody tr th:only-of-type {\n",
       "        vertical-align: middle;\n",
       "    }\n",
       "\n",
       "    .dataframe tbody tr th {\n",
       "        vertical-align: top;\n",
       "    }\n",
       "\n",
       "    .dataframe thead th {\n",
       "        text-align: right;\n",
       "    }\n",
       "</style>\n",
       "<table border=\"1\" class=\"dataframe\">\n",
       "  <thead>\n",
       "    <tr style=\"text-align: right;\">\n",
       "      <th></th>\n",
       "      <th>Text</th>\n",
       "      <th>Label</th>\n",
       "    </tr>\n",
       "  </thead>\n",
       "  <tbody>\n",
       "    <tr>\n",
       "      <th>0</th>\n",
       "      <td>note : some may consider portions of the follo...</td>\n",
       "      <td>1</td>\n",
       "    </tr>\n",
       "    <tr>\n",
       "      <th>1</th>\n",
       "      <td>note : some may consider portions of the follo...</td>\n",
       "      <td>1</td>\n",
       "    </tr>\n",
       "    <tr>\n",
       "      <th>2</th>\n",
       "      <td>every once in a while you see a film that is s...</td>\n",
       "      <td>1</td>\n",
       "    </tr>\n",
       "    <tr>\n",
       "      <th>3</th>\n",
       "      <td>when i was growing up in 1970s , boys in my sc...</td>\n",
       "      <td>1</td>\n",
       "    </tr>\n",
       "    <tr>\n",
       "      <th>4</th>\n",
       "      <td>the muppet movie is the first , and the best m...</td>\n",
       "      <td>1</td>\n",
       "    </tr>\n",
       "  </tbody>\n",
       "</table>\n",
       "</div>"
      ],
      "text/plain": [
       "                                                Text  Label\n",
       "0  note : some may consider portions of the follo...      1\n",
       "1  note : some may consider portions of the follo...      1\n",
       "2  every once in a while you see a film that is s...      1\n",
       "3  when i was growing up in 1970s , boys in my sc...      1\n",
       "4  the muppet movie is the first , and the best m...      1"
      ]
     },
     "execution_count": 303,
     "metadata": {},
     "output_type": "execute_result"
    }
   ],
   "source": [
    "data_sentiment_train.head()"
   ]
  },
  {
   "cell_type": "markdown",
   "metadata": {},
   "source": [
    "The next step is to put the raw texts into Python lists and their corresponding labels into NumPy arrays:\n"
   ]
  },
  {
   "cell_type": "code",
   "execution_count": 304,
   "metadata": {
    "ExecuteTime": {
     "end_time": "2020-02-15T14:17:31.115577Z",
     "start_time": "2020-02-15T14:17:31.108038Z"
    }
   },
   "outputs": [],
   "source": [
    "# Split data into lists and np arrays\n",
    "\n",
    "# TRAINING DATA\n",
    "data_sentiment_train_data = list(data_sentiment_train.loc[:,\"Text\"])\n",
    "Y_tr = np.array(data_sentiment_train.loc[:,\"Label\"])\n",
    "\n",
    "\n",
    "# TEST SET\n",
    "data_sentiment_test_data = list(data_sentiment_test.loc[:,\"Text\"])\n",
    "Y_test = np.array(data_sentiment_test.loc[:,\"Label\"])\n",
    "\n",
    "\n",
    "# VALIDATION SET\n",
    "data_sentiment_dev_data = list(data_sentiment_dev.loc[:,\"Text\"])\n",
    "Y_dev = np.array(data_sentiment_dev.loc[:,\"Label\"])"
   ]
  },
  {
   "cell_type": "markdown",
   "metadata": {},
   "source": [
    "# Bag-of-Words Representation \n",
    "\n",
    "\n",
    "To train and test Logisitc Regression models, you first need to obtain vector representations for all documents given a vocabulary of features (unigrams, bigrams, trigrams).\n",
    "\n",
    "\n",
    "## Text Pre-Processing Pipeline\n",
    "\n",
    "To obtain a vocabulary of features, you should: \n",
    "- tokenise all texts into a list of unigrams (tip: using a regular expression) \n",
    "- remove stop words (using the one provided or one of your preference) \n",
    "- compute bigrams, trigrams given the remaining unigrams\n",
    "- remove ngrams appearing in less than K documents\n",
    "- use the remaining to create a vocabulary of unigrams, bigrams and trigrams (you can keep top N if you encounter memory issues).\n"
   ]
  },
  {
   "cell_type": "code",
   "execution_count": 305,
   "metadata": {
    "ExecuteTime": {
     "end_time": "2020-02-15T14:17:31.860420Z",
     "start_time": "2020-02-15T14:17:31.855439Z"
    }
   },
   "outputs": [],
   "source": [
    "# stop_words = ['a','in','on','at','and','or', \n",
    "#               'to', 'the', 'of', 'an', 'by', \n",
    "#               'as', 'is', 'was', 'were', 'been', 'be', \n",
    "#               'are','for', 'this', 'that', 'these', 'those', 'you', 'i',\n",
    "#              'it', 'he', 'she', 'we', 'they' 'will', 'have', 'has',\n",
    "#               'do', 'did', 'can', 'could', 'who', 'which', 'what', \n",
    "#              'his', 'her', 'they', 'them', 'from', 'with', 'its']\n",
    "\n",
    "\n",
    "# This list was found on GitHub here ------->    https://gist.github.com/sebleier/554280\n",
    "# Also added days of the week which improved results for the muticlass model\n",
    "# Cant see the list in the pdf because the line is too long\n",
    "# Also removed days of the week as this increased the F1 measure for each classifier\n",
    "stop_words = [\"monday\",\"tuesday\",\"wednesday\",\"thursday\",\"friday\",\"saturday\",\"sunday\",\"0o\", \"0s\", \"3a\", \"3b\", \"3d\", \"6b\", \"6o\", \"a\", \"a1\", \"a2\", \"a3\", \"a4\", \"ab\", \"able\", \"about\", \"above\", \"abst\", \"ac\", \"accordance\", \"according\", \"accordingly\", \"across\", \"act\", \"actually\", \"ad\", \"added\", \"adj\", \"ae\", \"af\", \"affected\", \"affecting\", \"affects\", \"after\", \"afterwards\", \"ag\", \"again\", \"against\", \"ah\", \"ain\", \"ain't\", \"aj\", \"al\", \"all\", \"allow\", \"allows\", \"almost\", \"alone\", \"along\", \"already\", \"also\", \"although\", \"always\", \"am\", \"among\", \"amongst\", \"amoungst\", \"amount\", \"an\", \"and\", \"announce\", \"another\", \"any\", \"anybody\", \"anyhow\", \"anymore\", \"anyone\", \"anything\", \"anyway\", \"anyways\", \"anywhere\", \"ao\", \"ap\", \"apart\", \"apparently\", \"appear\", \"appreciate\", \"appropriate\", \"approximately\", \"ar\", \"are\", \"aren\", \"arent\", \"aren't\", \"arise\", \"around\", \"as\", \"a's\", \"aside\", \"ask\", \"asking\", \"associated\", \"at\", \"au\", \"auth\", \"av\", \"available\", \"aw\", \"away\", \"awfully\", \"ax\", \"ay\", \"az\", \"b\", \"b1\", \"b2\", \"b3\", \"ba\", \"back\", \"bc\", \"bd\", \"be\", \"became\", \"because\", \"become\", \"becomes\", \"becoming\", \"been\", \"before\", \"beforehand\", \"begin\", \"beginning\", \"beginnings\", \"begins\", \"behind\", \"being\", \"believe\", \"below\", \"beside\", \"besides\", \"best\", \"better\", \"between\", \"beyond\", \"bi\", \"bill\", \"biol\", \"bj\", \"bk\", \"bl\", \"bn\", \"both\", \"bottom\", \"bp\", \"br\", \"brief\", \"briefly\", \"bs\", \"bt\", \"bu\", \"but\", \"bx\", \"by\", \"c\", \"c1\", \"c2\", \"c3\", \"ca\", \"call\", \"came\", \"can\", \"cannot\", \"cant\", \"can't\", \"cause\", \"causes\", \"cc\", \"cd\", \"ce\", \"certain\", \"certainly\", \"cf\", \"cg\", \"ch\", \"changes\", \"ci\", \"cit\", \"cj\", \"cl\", \"clearly\", \"cm\", \"c'mon\", \"cn\", \"co\", \"com\", \"come\", \"comes\", \"con\", \"concerning\", \"consequently\", \"consider\", \"considering\", \"contain\", \"containing\", \"contains\", \"corresponding\", \"could\", \"couldn\", \"couldnt\", \"couldn't\", \"course\", \"cp\", \"cq\", \"cr\", \"cry\", \"cs\", \"c's\", \"ct\", \"cu\", \"currently\", \"cv\", \"cx\", \"cy\", \"cz\", \"d\", \"d2\", \"da\", \"date\", \"dc\", \"dd\", \"de\", \"definitely\", \"describe\", \"described\", \"despite\", \"detail\", \"df\", \"di\", \"did\", \"didn\", \"didn't\", \"different\", \"dj\", \"dk\", \"dl\", \"do\", \"does\", \"doesn\", \"doesn't\", \"doing\", \"don\", \"done\", \"don't\", \"down\", \"downwards\", \"dp\", \"dr\", \"ds\", \"dt\", \"du\", \"due\", \"during\", \"dx\", \"dy\", \"e\", \"e2\", \"e3\", \"ea\", \"each\", \"ec\", \"ed\", \"edu\", \"ee\", \"ef\", \"effect\", \"eg\", \"ei\", \"eight\", \"eighty\", \"either\", \"ej\", \"el\", \"eleven\", \"else\", \"elsewhere\", \"em\", \"empty\", \"en\", \"end\", \"ending\", \"enough\", \"entirely\", \"eo\", \"ep\", \"eq\", \"er\", \"es\", \"especially\", \"est\", \"et\", \"et-al\", \"etc\", \"eu\", \"ev\", \"even\", \"ever\", \"every\", \"everybody\", \"everyone\", \"everything\", \"everywhere\", \"ex\", \"exactly\", \"example\", \"except\", \"ey\", \"f\", \"f2\", \"fa\", \"far\", \"fc\", \"few\", \"ff\", \"fi\", \"fifteen\", \"fifth\", \"fify\", \"fill\", \"find\", \"fire\", \"first\", \"five\", \"fix\", \"fj\", \"fl\", \"fn\", \"fo\", \"followed\", \"following\", \"follows\", \"for\", \"former\", \"formerly\", \"forth\", \"forty\", \"found\", \"four\", \"fr\", \"from\", \"front\", \"fs\", \"ft\", \"fu\", \"full\", \"further\", \"furthermore\", \"fy\", \"g\", \"ga\", \"gave\", \"ge\", \"get\", \"gets\", \"getting\", \"gi\", \"give\", \"given\", \"gives\", \"giving\", \"gj\", \"gl\", \"go\", \"goes\", \"going\", \"gone\", \"got\", \"gotten\", \"gr\", \"greetings\", \"gs\", \"gy\", \"h\", \"h2\", \"h3\", \"had\", \"hadn\", \"hadn't\", \"happens\", \"hardly\", \"has\", \"hasn\", \"hasnt\", \"hasn't\", \"have\", \"haven\", \"haven't\", \"having\", \"he\", \"hed\", \"he'd\", \"he'll\", \"hello\", \"help\", \"hence\", \"her\", \"here\", \"hereafter\", \"hereby\", \"herein\", \"heres\", \"here's\", \"hereupon\", \"hers\", \"herself\", \"hes\", \"he's\", \"hh\", \"hi\", \"hid\", \"him\", \"himself\", \"his\", \"hither\", \"hj\", \"ho\", \"home\", \"hopefully\", \"how\", \"howbeit\", \"however\", \"how's\", \"hr\", \"hs\", \"http\", \"hu\", \"hundred\", \"hy\", \"i\", \"i2\", \"i3\", \"i4\", \"i6\", \"i7\", \"i8\", \"ia\", \"ib\", \"ibid\", \"ic\", \"id\", \"i'd\", \"ie\", \"if\", \"ig\", \"ignored\", \"ih\", \"ii\", \"ij\", \"il\", \"i'll\", \"im\", \"i'm\", \"immediate\", \"immediately\", \"importance\", \"important\", \"in\", \"inasmuch\", \"inc\", \"indeed\", \"index\", \"indicate\", \"indicated\", \"indicates\", \"information\", \"inner\", \"insofar\", \"instead\", \"interest\", \"into\", \"invention\", \"inward\", \"io\", \"ip\", \"iq\", \"ir\", \"is\", \"isn\", \"isn't\", \"it\", \"itd\", \"it'd\", \"it'll\", \"its\", \"it's\", \"itself\", \"iv\", \"i've\", \"ix\", \"iy\", \"iz\", \"j\", \"jj\", \"jr\", \"js\", \"jt\", \"ju\", \"just\", \"k\", \"ke\", \"keep\", \"keeps\", \"kept\", \"kg\", \"kj\", \"km\", \"know\", \"known\", \"knows\", \"ko\", \"l\", \"l2\", \"la\", \"largely\", \"last\", \"lately\", \"later\", \"latter\", \"latterly\", \"lb\", \"lc\", \"le\", \"least\", \"les\", \"less\", \"lest\", \"let\", \"lets\", \"let's\", \"lf\", \"like\", \"liked\", \"likely\", \"line\", \"little\", \"lj\", \"ll\", \"ll\", \"ln\", \"lo\", \"look\", \"looking\", \"looks\", \"los\", \"lr\", \"ls\", \"lt\", \"ltd\", \"m\", \"m2\", \"ma\", \"made\", \"mainly\", \"make\", \"makes\", \"many\", \"may\", \"maybe\", \"me\", \"mean\", \"means\", \"meantime\", \"meanwhile\", \"merely\", \"mg\", \"might\", \"mightn\", \"mightn't\", \"mill\", \"million\", \"mine\", \"miss\", \"ml\", \"mn\", \"mo\", \"more\", \"moreover\", \"most\", \"mostly\", \"move\", \"mr\", \"mrs\", \"ms\", \"mt\", \"mu\", \"much\", \"mug\", \"must\", \"mustn\", \"mustn't\", \"my\", \"myself\", \"n\", \"n2\", \"na\", \"name\", \"namely\", \"nay\", \"nc\", \"nd\", \"ne\", \"near\", \"nearly\", \"necessarily\", \"necessary\", \"need\", \"needn\", \"needn't\", \"needs\", \"neither\", \"never\", \"nevertheless\", \"new\", \"next\", \"ng\", \"ni\", \"nine\", \"ninety\", \"nj\", \"nl\", \"nn\", \"no\", \"nobody\", \"non\", \"none\", \"nonetheless\", \"noone\", \"nor\", \"normally\", \"nos\", \"not\", \"noted\", \"nothing\", \"novel\", \"now\", \"nowhere\", \"nr\", \"ns\", \"nt\", \"ny\", \"o\", \"oa\", \"ob\", \"obtain\", \"obtained\", \"obviously\", \"oc\", \"od\", \"of\", \"off\", \"often\", \"og\", \"oh\", \"oi\", \"oj\", \"ok\", \"okay\", \"ol\", \"old\", \"om\", \"omitted\", \"on\", \"once\", \"one\", \"ones\", \"only\", \"onto\", \"oo\", \"op\", \"oq\", \"or\", \"ord\", \"os\", \"ot\", \"other\", \"others\", \"otherwise\", \"ou\", \"ought\", \"our\", \"ours\", \"ourselves\", \"out\", \"outside\", \"over\", \"overall\", \"ow\", \"owing\", \"own\", \"ox\", \"oz\", \"p\", \"p1\", \"p2\", \"p3\", \"page\", \"pagecount\", \"pages\", \"par\", \"part\", \"particular\", \"particularly\", \"pas\", \"past\", \"pc\", \"pd\", \"pe\", \"per\", \"perhaps\", \"pf\", \"ph\", \"pi\", \"pj\", \"pk\", \"pl\", \"placed\", \"please\", \"plus\", \"pm\", \"pn\", \"po\", \"poorly\", \"possible\", \"possibly\", \"potentially\", \"pp\", \"pq\", \"pr\", \"predominantly\", \"present\", \"presumably\", \"previously\", \"primarily\", \"probably\", \"promptly\", \"proud\", \"provides\", \"ps\", \"pt\", \"pu\", \"put\", \"py\", \"q\", \"qj\", \"qu\", \"que\", \"quickly\", \"quite\", \"qv\", \"r\", \"r2\", \"ra\", \"ran\", \"rather\", \"rc\", \"rd\", \"re\", \"readily\", \"really\", \"reasonably\", \"recent\", \"recently\", \"ref\", \"refs\", \"regarding\", \"regardless\", \"regards\", \"related\", \"relatively\", \"research\", \"research-articl\", \"respectively\", \"resulted\", \"resulting\", \"results\", \"rf\", \"rh\", \"ri\", \"right\", \"rj\", \"rl\", \"rm\", \"rn\", \"ro\", \"rq\", \"rr\", \"rs\", \"rt\", \"ru\", \"run\", \"rv\", \"ry\", \"s\", \"s2\", \"sa\", \"said\", \"same\", \"saw\", \"say\", \"saying\", \"says\", \"sc\", \"sd\", \"se\", \"sec\", \"second\", \"secondly\", \"section\", \"see\", \"seeing\", \"seem\", \"seemed\", \"seeming\", \"seems\", \"seen\", \"self\", \"selves\", \"sensible\", \"sent\", \"serious\", \"seriously\", \"seven\", \"several\", \"sf\", \"shall\", \"shan\", \"shan't\", \"she\", \"shed\", \"she'd\", \"she'll\", \"shes\", \"she's\", \"should\", \"shouldn\", \"shouldn't\", \"should've\", \"show\", \"showed\", \"shown\", \"showns\", \"shows\", \"si\", \"side\", \"significant\", \"significantly\", \"similar\", \"similarly\", \"since\", \"sincere\", \"six\", \"sixty\", \"sj\", \"sl\", \"slightly\", \"sm\", \"sn\", \"so\", \"some\", \"somebody\", \"somehow\", \"someone\", \"somethan\", \"something\", \"sometime\", \"sometimes\", \"somewhat\", \"somewhere\", \"soon\", \"sorry\", \"sp\", \"specifically\", \"specified\", \"specify\", \"specifying\", \"sq\", \"sr\", \"ss\", \"st\", \"still\", \"stop\", \"strongly\", \"sub\", \"substantially\", \"successfully\", \"such\", \"sufficiently\", \"suggest\", \"sup\", \"sure\", \"sy\", \"system\", \"sz\", \"t\", \"t1\", \"t2\", \"t3\", \"take\", \"taken\", \"taking\", \"tb\", \"tc\", \"td\", \"te\", \"tell\", \"ten\", \"tends\", \"tf\", \"th\", \"than\", \"thank\", \"thanks\", \"thanx\", \"that\", \"that'll\", \"thats\", \"that's\", \"that've\", \"the\", \"their\", \"theirs\", \"them\", \"themselves\", \"then\", \"thence\", \"there\", \"thereafter\", \"thereby\", \"thered\", \"therefore\", \"therein\", \"there'll\", \"thereof\", \"therere\", \"theres\", \"there's\", \"thereto\", \"thereupon\", \"there've\", \"these\", \"they\", \"theyd\", \"they'd\", \"they'll\", \"theyre\", \"they're\", \"they've\", \"thickv\", \"thin\", \"think\", \"third\", \"this\", \"thorough\", \"thoroughly\", \"those\", \"thou\", \"though\", \"thoughh\", \"thousand\", \"three\", \"throug\", \"through\", \"throughout\", \"thru\", \"thus\", \"ti\", \"til\", \"tip\", \"tj\", \"tl\", \"tm\", \"tn\", \"to\", \"together\", \"too\", \"took\", \"top\", \"toward\", \"towards\", \"tp\", \"tq\", \"tr\", \"tried\", \"tries\", \"truly\", \"try\", \"trying\", \"ts\", \"t's\", \"tt\", \"tv\", \"twelve\", \"twenty\", \"twice\", \"two\", \"tx\", \"u\", \"u201d\", \"ue\", \"ui\", \"uj\", \"uk\", \"um\", \"un\", \"under\", \"unfortunately\", \"unless\", \"unlike\", \"unlikely\", \"until\", \"unto\", \"uo\", \"up\", \"upon\", \"ups\", \"ur\", \"us\", \"use\", \"used\", \"useful\", \"usefully\", \"usefulness\", \"uses\", \"using\", \"usually\", \"ut\", \"v\", \"va\", \"value\", \"various\", \"vd\", \"ve\", \"ve\", \"very\", \"via\", \"viz\", \"vj\", \"vo\", \"vol\", \"vols\", \"volumtype\", \"vq\", \"vs\", \"vt\", \"vu\", \"w\", \"wa\", \"want\", \"wants\", \"was\", \"wasn\", \"wasnt\", \"wasn't\", \"way\", \"we\", \"wed\", \"we'd\", \"welcome\", \"well\", \"we'll\", \"well-b\", \"went\", \"were\", \"we're\", \"weren\", \"werent\", \"weren't\", \"we've\", \"what\", \"whatever\", \"what'll\", \"whats\", \"what's\", \"when\", \"whence\", \"whenever\", \"when's\", \"where\", \"whereafter\", \"whereas\", \"whereby\", \"wherein\", \"wheres\", \"where's\", \"whereupon\", \"wherever\", \"whether\", \"which\", \"while\", \"whim\", \"whither\", \"who\", \"whod\", \"whoever\", \"whole\", \"who'll\", \"whom\", \"whomever\", \"whos\", \"who's\", \"whose\", \"why\", \"why's\", \"wi\", \"widely\", \"will\", \"willing\", \"wish\", \"with\", \"within\", \"without\", \"wo\", \"won\", \"wonder\", \"wont\", \"won't\", \"words\", \"world\", \"would\", \"wouldn\", \"wouldnt\", \"wouldn't\", \"www\", \"x\", \"x1\", \"x2\", \"x3\", \"xf\", \"xi\", \"xj\", \"xk\", \"xl\", \"xn\", \"xo\", \"xs\", \"xt\", \"xv\", \"xx\", \"y\", \"y2\", \"yes\", \"yet\", \"yj\", \"yl\", \"you\", \"youd\", \"you'd\", \"you'll\", \"your\", \"youre\", \"you're\", \"yours\", \"yourself\", \"yourselves\", \"you've\", \"yr\", \"ys\", \"yt\", \"z\", \"zero\", \"zi\", \"zz\"]"
   ]
  },
  {
   "cell_type": "markdown",
   "metadata": {},
   "source": [
    "### N-gram extraction from a document\n",
    "\n",
    "You first need to implement the `extract_ngrams` function. It takes as input:\n",
    "- `x_raw`: a string corresponding to the raw text of a document\n",
    "- `ngram_range`: a tuple of two integers denoting the type of ngrams you want to extract, e.g. (1,2) denotes extracting unigrams and bigrams.\n",
    "- `token_pattern`: a string to be used within a regular expression to extract all tokens. Note that data is already tokenised so you could opt for a simple white space tokenisation.\n",
    "- `stop_words`: a list of stop words\n",
    "- `vocab`: a given vocabulary. It should be used to extract specific features.\n",
    "\n",
    "and returns:\n",
    "\n",
    "- a list of all extracted features.\n",
    "\n",
    "See the examples below to see how this function should work."
   ]
  },
  {
   "cell_type": "code",
   "execution_count": 306,
   "metadata": {
    "ExecuteTime": {
     "end_time": "2020-02-15T14:17:33.169090Z",
     "start_time": "2020-02-15T14:17:33.161268Z"
    }
   },
   "outputs": [],
   "source": [
    "\n",
    "# token_pattern was changed to allow ' marks and one letter tokens\n",
    "\n",
    "\n",
    "def extract_ngrams(x_raw, ngram_range=(1,3), token_pattern=r\"\\b[A-Za-z\\'][A-Za-z\\']*\\b\", stop_words=[]):\n",
    "    \n",
    "    # To remove caps so to avoid e.g. This/this being seperate tokens   \n",
    "    x_raw = x_raw.lower()\n",
    "    \n",
    "    # Tokenise document\n",
    "    x_raw = re.findall(token_pattern,  x_raw)\n",
    "    \n",
    "    # filter out stopwords     \n",
    "    tokens = [token for token in x_raw if token not in stop_words]\n",
    "    \n",
    "    # for each n-gram in ngram_range ---> construct a list of all n grams    \n",
    "    sequences = []    \n",
    "    for n in range(ngram_range[0], ngram_range[1] + 1) :   \n",
    "        sequences.extend([tuple(tokens[i:i + n]) for i in range(len(tokens) - n + 1)])\n",
    "        \n",
    "        \n",
    "    return sequences\n",
    "\n"
   ]
  },
  {
   "cell_type": "code",
   "execution_count": 307,
   "metadata": {},
   "outputs": [
    {
     "data": {
      "text/plain": [
       "[('great',),\n",
       " ('movie',),\n",
       " ('watch',),\n",
       " ('great', 'movie'),\n",
       " ('movie', 'watch'),\n",
       " ('great', 'movie', 'watch')]"
      ]
     },
     "execution_count": 307,
     "metadata": {},
     "output_type": "execute_result"
    }
   ],
   "source": [
    "extract_ngrams(\"this is a great movie to watch\", \n",
    "               ngram_range=(1,3), \n",
    "               stop_words=stop_words)\n"
   ]
  },
  {
   "cell_type": "code",
   "execution_count": 308,
   "metadata": {
    "ExecuteTime": {
     "end_time": "2020-02-15T14:17:33.680114Z",
     "start_time": "2020-02-15T14:17:33.675339Z"
    }
   },
   "outputs": [
    {
     "data": {
      "text/plain": [
       "[('great',),\n",
       " ('movie',),\n",
       " ('watch',),\n",
       " ('great', 'movie'),\n",
       " ('movie', 'watch'),\n",
       " ('great', 'movie', 'watch')]"
      ]
     },
     "execution_count": 308,
     "metadata": {},
     "output_type": "execute_result"
    }
   ],
   "source": [
    "extract_ngrams(\"this is a great movie to watch\", \n",
    "               ngram_range=(1,3), \n",
    "               stop_words=stop_words)"
   ]
  },
  {
   "cell_type": "code",
   "execution_count": 309,
   "metadata": {
    "ExecuteTime": {
     "end_time": "2020-02-15T14:17:34.278189Z",
     "start_time": "2020-02-15T14:17:34.273722Z"
    }
   },
   "outputs": [
    {
     "data": {
      "text/plain": [
       "[('great',), ('movie',), ('watch',), ('great', 'movie'), ('movie', 'watch')]"
      ]
     },
     "execution_count": 309,
     "metadata": {},
     "output_type": "execute_result"
    }
   ],
   "source": [
    "extract_ngrams(\"this is a great movie to watch\", \n",
    "               ngram_range=(1,2), \n",
    "               stop_words=stop_words)"
   ]
  },
  {
   "cell_type": "markdown",
   "metadata": {},
   "source": [
    "Note that it is OK to represent n-grams using lists instead of tuples: e.g. `['great', ['great', 'movie']]`"
   ]
  },
  {
   "cell_type": "markdown",
   "metadata": {},
   "source": [
    "### Create a vocabulary of n-grams\n",
    "\n",
    "Then the `get_vocab` function will be used to (1) create a vocabulary of ngrams; (2) count the document frequencies of ngrams; (3) their raw frequency. It takes as input:\n",
    "- `X_raw`: a list of strings each corresponding to the raw text of a document\n",
    "- `ngram_range`: a tuple of two integers denoting the type of ngrams you want to extract, e.g. (1,2) denotes extracting unigrams and bigrams.\n",
    "- `token_pattern`: a string to be used within a regular expression to extract all tokens. Note that data is already tokenised so you could opt for a simple white space tokenisation.\n",
    "- `stop_words`: a list of stop words\n",
    "- `vocab`: a given vocabulary. It should be used to extract specific features.\n",
    "- `min_df`: keep ngrams with a minimum document frequency.\n",
    "- `keep_topN`: keep top-N more frequent ngrams.\n",
    "\n",
    "and returns:\n",
    "\n",
    "- `vocab`: a set of the n-grams that will be used as features.\n",
    "- `df`: a Counter (or dict) that contains ngrams as keys and their corresponding document frequency as values.\n",
    "- `ngram_counts`: counts of each ngram in vocab\n",
    "\n",
    "Hint: it should make use of the `extract_ngrams` function."
   ]
  },
  {
   "cell_type": "code",
   "execution_count": 310,
   "metadata": {
    "ExecuteTime": {
     "end_time": "2020-02-15T14:17:35.821240Z",
     "start_time": "2020-02-15T14:17:35.814722Z"
    }
   },
   "outputs": [],
   "source": [
    "def get_vocab(X_raw, ngram_range=(1,3), token_pattern=r'\\b[A-Za-z\\'][A-Za-z\\']*\\b', min_df=0, keep_topN=0, stop_words=[]):\n",
    "    \n",
    "    #  init empty values   \n",
    "    df = dict()\n",
    "    vocab = set()\n",
    "    ngram_counts = []\n",
    "\n",
    "    for x in X_raw : \n",
    "        # Get N-Grams for each document        \n",
    "        v = extract_ngrams(x, ngram_range = ngram_range, token_pattern = token_pattern, stop_words = stop_words)\n",
    "        \n",
    "        # Add these ngrams to a list of words         \n",
    "        ngram_counts.extend(v)\n",
    "        \n",
    "        # Remove duplications and add to the df dict accordingly   \n",
    "        v = set(v)\n",
    "        for item in list(v) :\n",
    "            df[item] = df.get(item, 0) + 1\n",
    "        \n",
    "        # add the ngrams to the vocab        \n",
    "        vocab |= v\n",
    "    \n",
    "    # Filter Document frequencies   \n",
    "    df = {k: v for (k, v) in df.items() if v >= min_df}\n",
    "    # Keep only the top N\n",
    "    df = dict(list({k: v for (k, v) in sorted(df.items(), reverse = True, key=lambda x: x[1])}.items())[:keep_topN])\n",
    "    \n",
    "    # remove the filtered ngrams from the vocab\n",
    "#     vocab = vocab.intersection(set(df.keys()))\n",
    "    vocab = set(df.keys())\n",
    "    # count the number of ngrams in the vocab \n",
    "    ngram_counts = [(x, y) for (x, y) in Counter(ngram_counts).items() if x in vocab]\n",
    "    return vocab, df, ngram_counts\n"
   ]
  },
  {
   "cell_type": "markdown",
   "metadata": {},
   "source": [
    "Now you should use `get_vocab` to create your vocabulary and get document and raw frequencies of n-grams:"
   ]
  },
  {
   "cell_type": "code",
   "execution_count": 311,
   "metadata": {
    "ExecuteTime": {
     "end_time": "2020-02-15T14:17:39.319793Z",
     "start_time": "2020-02-15T14:17:36.836545Z"
    }
   },
   "outputs": [],
   "source": [
    "vocab, df, ngram_counts = get_vocab(data_sentiment_train_data, ngram_range=(1,3), keep_topN=8000, stop_words=stop_words)"
   ]
  },
  {
   "cell_type": "markdown",
   "metadata": {},
   "source": [
    "Then, you need to create vocabulary id -> word and word -> id dictionaries for reference:"
   ]
  },
  {
   "cell_type": "code",
   "execution_count": 312,
   "metadata": {},
   "outputs": [],
   "source": [
    "# vocabulary id -> word and word -> id\n",
    "v_id = {i: v for i, v in enumerate(vocab)}\n",
    "w_id = {v: i for i, v in v_id.items()}\n"
   ]
  },
  {
   "cell_type": "markdown",
   "metadata": {},
   "source": [
    "Now you should be able to extract n-grams for each text in the training, development and test sets:"
   ]
  },
  {
   "cell_type": "code",
   "execution_count": 313,
   "metadata": {},
   "outputs": [],
   "source": [
    "tr_ngram_count = [extract_ngrams(x, stop_words=stop_words) for x in data_sentiment_train_data]\n",
    "dev_ngram_count = [extract_ngrams(x, stop_words=stop_words) for x in data_sentiment_dev_data]\n",
    "test_ngram_count = [extract_ngrams(x, stop_words=stop_words) for x in data_sentiment_test_data]"
   ]
  },
  {
   "cell_type": "markdown",
   "metadata": {},
   "source": [
    "## Vectorise documents "
   ]
  },
  {
   "cell_type": "markdown",
   "metadata": {},
   "source": [
    "Next, write a function `vectoriser` to obtain Bag-of-ngram representations for a list of documents. The function should take as input:\n",
    "- `X_ngram`: a list of texts (documents), where each text is represented as list of n-grams in the `vocab`\n",
    "- `vocab`: a set of n-grams to be used for representing the documents\n",
    "\n",
    "and return:\n",
    "- `X_vec`: an array with dimensionality Nx|vocab| where N is the number of documents and |vocab| is the size of the vocabulary. Each element of the array should represent the frequency of a given n-gram in a document.\n"
   ]
  },
  {
   "cell_type": "code",
   "execution_count": 314,
   "metadata": {
    "ExecuteTime": {
     "end_time": "2020-02-15T14:17:40.219201Z",
     "start_time": "2020-02-15T14:17:40.215129Z"
    }
   },
   "outputs": [],
   "source": [
    "def vectorise(X_ngram, vocab):\n",
    "    # Get size of vocab and X_ngram\n",
    "    V = len(vocab)\n",
    "    X = len(X_ngram)\n",
    "    \n",
    "    # Create an empty matrix  \n",
    "    X_vec = np.zeros((X, V))\n",
    "    \n",
    "    # For each document construct a vector of size 1 x |V|  \n",
    "    for doc_id, doc in enumerate(X_ngram) :\n",
    "        doc = [d for d in doc if d in vocab]\n",
    "        for word in doc :\n",
    "            X_vec[doc_id, w_id[word]] += 1\n",
    "    return X_vec"
   ]
  },
  {
   "cell_type": "markdown",
   "metadata": {},
   "source": [
    "Finally, use `vectorise` to obtain document vectors for each document in the train, development and test set. You should extract both count and tf.idf vectors respectively:"
   ]
  },
  {
   "cell_type": "markdown",
   "metadata": {},
   "source": [
    "#### Count vectors"
   ]
  },
  {
   "cell_type": "code",
   "execution_count": 315,
   "metadata": {
    "ExecuteTime": {
     "end_time": "2020-02-15T14:17:41.999574Z",
     "start_time": "2020-02-15T14:17:40.376534Z"
    }
   },
   "outputs": [],
   "source": [
    "# TRAINING COUNT MATRIX\n",
    "X_tr_count = vectorise(tr_ngram_count, vocab)\n",
    "# DEV COUNT MATRIX\n",
    "X_dev_count = vectorise(dev_ngram_count, vocab)\n",
    "# TEST COUNT MATRIX\n",
    "X_test_count = vectorise(test_ngram_count, vocab)"
   ]
  },
  {
   "cell_type": "code",
   "execution_count": 316,
   "metadata": {
    "ExecuteTime": {
     "end_time": "2020-02-15T14:17:42.004808Z",
     "start_time": "2020-02-15T14:17:42.001555Z"
    }
   },
   "outputs": [
    {
     "data": {
      "text/plain": [
       "(1400, 8000)"
      ]
     },
     "execution_count": 316,
     "metadata": {},
     "output_type": "execute_result"
    }
   ],
   "source": [
    "X_tr_count.shape"
   ]
  },
  {
   "cell_type": "code",
   "execution_count": 317,
   "metadata": {
    "ExecuteTime": {
     "end_time": "2020-02-15T14:17:42.010525Z",
     "start_time": "2020-02-15T14:17:42.006309Z"
    }
   },
   "outputs": [
    {
     "data": {
      "text/plain": [
       "array([[1., 0., 0., 0., 0., 0., 0., 0., 0., 0., 0., 0., 0., 0., 0., 0.,\n",
       "        0., 0., 0., 0., 0., 0., 0., 0., 0., 0., 0., 0., 0., 0., 0., 0.,\n",
       "        0., 0., 0., 0., 0., 0., 0., 0., 0., 0., 0., 0., 0., 0., 0., 2.,\n",
       "        0., 0.]])"
      ]
     },
     "execution_count": 317,
     "metadata": {},
     "output_type": "execute_result"
    }
   ],
   "source": [
    "X_tr_count[:1,:50]"
   ]
  },
  {
   "cell_type": "markdown",
   "metadata": {},
   "source": [
    "#### TF.IDF vectors\n",
    "\n",
    "First compute `idfs` an array containing inverted document frequencies (Note: its elements should correspond to your `vocab`)"
   ]
  },
  {
   "cell_type": "code",
   "execution_count": 318,
   "metadata": {},
   "outputs": [],
   "source": [
    "def tfidf(no_docs, df, v_id):\n",
    "    # Get size of vocab and X_ngram\n",
    "    V = len(v_id)\n",
    "    # Create an empty matrix  \n",
    "    X_vec = np.zeros((1, V))\n",
    "    # For each document construct a vector of size 1 x |V|  \n",
    "    for i in range(V) :\n",
    "        X_vec[0, i] = np.log10(no_docs/df[v_id[i]])\n",
    "    return X_vec\n"
   ]
  },
  {
   "cell_type": "markdown",
   "metadata": {},
   "source": [
    "Then transform your count vectors to tf.idf vectors:"
   ]
  },
  {
   "cell_type": "code",
   "execution_count": 319,
   "metadata": {
    "ExecuteTime": {
     "end_time": "2020-02-15T14:17:42.802265Z",
     "start_time": "2020-02-15T14:17:42.752448Z"
    }
   },
   "outputs": [],
   "source": [
    "\"\"\"\n",
    "\n",
    "Using the Count matrixes, enumerated vocabs, and the vocabs document frequencies\n",
    "Calculate the TF.IDF for each value in the count matrixes\n",
    "\n",
    "\"\"\" \n",
    "\n",
    "no_docs = len(tr_ngram_count)\n",
    "\n",
    "idf = tfidf(no_docs, df, v_id)\n",
    "\n",
    "X_tr_tfidf = np.log10(1 + X_tr_count) * idf\n",
    "X_dev_tfidf = np.log10(1 + X_dev_count) * idf\n",
    "X_test_tfidf = np.log10(1 + X_test_count) * idf\n"
   ]
  },
  {
   "cell_type": "code",
   "execution_count": 320,
   "metadata": {
    "ExecuteTime": {
     "end_time": "2020-02-15T14:17:43.211619Z",
     "start_time": "2020-02-15T14:17:43.207266Z"
    }
   },
   "outputs": [
    {
     "data": {
      "text/plain": [
       "(1400, 8000)"
      ]
     },
     "execution_count": 320,
     "metadata": {},
     "output_type": "execute_result"
    }
   ],
   "source": [
    "X_tr_tfidf.shape"
   ]
  },
  {
   "cell_type": "code",
   "execution_count": 321,
   "metadata": {},
   "outputs": [
    {
     "data": {
      "text/plain": [
       "array([[0.59304016, 0.        , 0.        , 0.        , 0.        ,\n",
       "        0.        , 0.        , 0.        , 0.        , 0.        ,\n",
       "        0.        , 0.        , 0.        , 0.        , 0.        ,\n",
       "        0.        , 0.        , 0.        , 0.        , 0.        ,\n",
       "        0.        , 0.        , 0.        , 0.        , 0.        ,\n",
       "        0.        , 0.        , 0.        , 0.        , 0.        ,\n",
       "        0.        , 0.        , 0.        , 0.        , 0.        ,\n",
       "        0.        , 0.        , 0.        , 0.        , 0.        ,\n",
       "        0.        , 0.        , 0.        , 0.        , 0.        ,\n",
       "        0.        , 0.        , 0.66698689, 0.        , 0.        ]])"
      ]
     },
     "execution_count": 321,
     "metadata": {},
     "output_type": "execute_result"
    }
   ],
   "source": [
    "X_tr_tfidf[:1,:50]"
   ]
  },
  {
   "cell_type": "markdown",
   "metadata": {},
   "source": [
    "# Binary Logistic Regression\n",
    "\n",
    "After obtaining vector representations of the data, now you are ready to implement Binary Logistic Regression for classifying sentiment."
   ]
  },
  {
   "cell_type": "markdown",
   "metadata": {},
   "source": [
    "First, you need to implement the `sigmoid` function. It takes as input:\n",
    "\n",
    "- `z`: a real number or an array of real numbers \n",
    "\n",
    "and returns:\n",
    "\n",
    "- `sig`: the sigmoid of `z`"
   ]
  },
  {
   "cell_type": "code",
   "execution_count": 322,
   "metadata": {
    "ExecuteTime": {
     "end_time": "2020-02-15T14:17:44.160661Z",
     "start_time": "2020-02-15T14:17:44.157902Z"
    }
   },
   "outputs": [],
   "source": [
    "def sigmoid(z):\n",
    "    z = 1 / (1 + np.exp(-z))\n",
    "#     z = np.minimum(z, 0.9999)  # Set upper bound\n",
    "#     z = np.maximum(z, 0.0001)  # Set lower bound\n",
    "    return z"
   ]
  },
  {
   "cell_type": "code",
   "execution_count": 323,
   "metadata": {},
   "outputs": [
    {
     "name": "stdout",
     "output_type": "stream",
     "text": [
      "0.5\n",
      "[0.00669285 0.76852478]\n"
     ]
    }
   ],
   "source": [
    "print(sigmoid(0)) \n",
    "print(sigmoid(np.array([-5., 1.2])))"
   ]
  },
  {
   "cell_type": "code",
   "execution_count": 324,
   "metadata": {
    "ExecuteTime": {
     "end_time": "2020-02-15T14:17:44.351292Z",
     "start_time": "2020-02-15T14:17:44.346822Z"
    }
   },
   "outputs": [
    {
     "name": "stdout",
     "output_type": "stream",
     "text": [
      "0.5\n",
      "[0.00669285 0.76852478]\n"
     ]
    }
   ],
   "source": [
    "print(sigmoid(0)) \n",
    "print(sigmoid(np.array([-5., 1.2])))"
   ]
  },
  {
   "cell_type": "markdown",
   "metadata": {},
   "source": [
    "Then, implement the `predict_proba` function to obtain prediction probabilities. It takes as input:\n",
    "\n",
    "- `X`: an array of inputs, i.e. documents represented by bag-of-ngram vectors ($N \\times |vocab|$)\n",
    "- `weights`: a 1-D array of the model's weights $(1, |vocab|)$\n",
    "\n",
    "and returns:\n",
    "\n",
    "- `preds_proba`: the prediction probabilities of X given the weights"
   ]
  },
  {
   "cell_type": "code",
   "execution_count": 325,
   "metadata": {
    "ExecuteTime": {
     "end_time": "2020-02-15T14:17:44.718566Z",
     "start_time": "2020-02-15T14:17:44.715017Z"
    }
   },
   "outputs": [],
   "source": [
    "def predict_proba(X, weights):\n",
    "    # Use sigmoid to prodict the probability     \n",
    "    preds_proba = np.dot(weights, X.T)\n",
    "    return sigmoid(preds_proba)"
   ]
  },
  {
   "cell_type": "markdown",
   "metadata": {},
   "source": [
    "Then, implement the `predict_class` function to obtain the most probable class for each vector in an array of input vectors. It takes as input:\n",
    "\n",
    "- `X`: an array of documents represented by bag-of-ngram vectors ($N \\times |vocab|$)\n",
    "- `weights`: a 1-D array of the model's weights $(1, |vocab|)$\n",
    "\n",
    "and returns:\n",
    "\n",
    "- `preds_class`: the predicted class for each x in X given the weights"
   ]
  },
  {
   "cell_type": "code",
   "execution_count": 326,
   "metadata": {
    "ExecuteTime": {
     "end_time": "2020-02-15T14:17:45.002125Z",
     "start_time": "2020-02-15T14:17:44.998668Z"
    }
   },
   "outputs": [],
   "source": [
    "def predict_class(X, weights):\n",
    "    # Return True if value is greater than 0.5 else 0    \n",
    "    preds_proba = predict_proba(X, weights)\n",
    "    return preds_proba > 0.5"
   ]
  },
  {
   "cell_type": "markdown",
   "metadata": {},
   "source": [
    "To learn the weights from data, we need to minimise the binary cross-entropy loss. Implement `binary_loss` that takes as input:\n",
    "\n",
    "- `X`: input vectors\n",
    "- `Y`: labels\n",
    "- `weights`: model weights\n",
    "- `alpha`: regularisation strength\n",
    "\n",
    "and return:\n",
    "\n",
    "- `l`: the loss score"
   ]
  },
  {
   "cell_type": "code",
   "execution_count": 327,
   "metadata": {
    "ExecuteTime": {
     "end_time": "2020-02-15T14:17:45.455533Z",
     "start_time": "2020-02-15T14:17:45.451475Z"
    }
   },
   "outputs": [],
   "source": [
    "def binary_loss(X, Y, weights, alpha=0.00001):\n",
    "    # Sum the binary loss     \n",
    "    loss = 0\n",
    "    for i, y in enumerate(Y) :\n",
    "        prob = predict_proba(X[i], weights)\n",
    "        loss += - np.log(prob) if y == 1 else - np.log(1 - prob)\n",
    "    \n",
    "    # Return the avg. loss and L2 regularisated    \n",
    "    return loss/len(Y) + alpha * np.dot(weights,weights.T)\n"
   ]
  },
  {
   "cell_type": "code",
   "execution_count": 328,
   "metadata": {},
   "outputs": [],
   "source": [
    "def binary_loss_dev(X, Y, weights, alpha=0.00001):\n",
    "    \n",
    "    # Calculate the gradient of the loss function     \n",
    "    prob = predict_proba(X, weights)\n",
    "    loss = X * (prob - Y)\n",
    "    \n",
    "    #  return the gradient of the loss fuction   \n",
    "    return loss + 2 * alpha * weights"
   ]
  },
  {
   "cell_type": "markdown",
   "metadata": {},
   "source": [
    "Now, you can implement Stochastic Gradient Descent to learn the weights of your sentiment classifier. The `SGD` function takes as input:\n",
    "\n",
    "- `X_tr`: array of training data (vectors)\n",
    "- `Y_tr`: labels of `X_tr`\n",
    "- `X_dev`: array of development (i.e. validation) data (vectors)\n",
    "- `Y_dev`: labels of `X_dev`\n",
    "- `lr`: learning rate\n",
    "- `alpha`: regularisation strength\n",
    "- `epochs`: number of full passes over the training data\n",
    "- `tolerance`: stop training if the difference between the current and previous validation loss is smaller than a threshold\n",
    "- `print_progress`: flag for printing the training progress (train/validation loss)\n",
    "\n",
    "\n",
    "and returns:\n",
    "\n",
    "- `weights`: the weights learned\n",
    "- `training_loss_history`: an array with the average losses of the whole training set after each epoch\n",
    "- `validation_loss_history`: an array with the average losses of the whole development set after each epoch"
   ]
  },
  {
   "cell_type": "code",
   "execution_count": 329,
   "metadata": {
    "ExecuteTime": {
     "end_time": "2020-02-15T14:17:45.968510Z",
     "start_time": "2020-02-15T14:17:45.958185Z"
    }
   },
   "outputs": [],
   "source": [
    "def SGD(X_tr, Y_tr, X_dev=[], Y_dev=[], loss=\"binary\", lr=0.1, alpha=0.00001, epochs=50, tolerance=0.0001, print_progress=True):\n",
    "    \n",
    "    training_loss_history = []\n",
    "    validation_loss_history = []\n",
    "    \n",
    "    #  Init weights with zeros   \n",
    "    weights = np.zeros(shape=(1, X_tr.shape[1]))\n",
    "    \n",
    "    # for each epoch     \n",
    "    for e in range(epochs) :\n",
    "        \n",
    "        # Shuffle documents         \n",
    "        s = np.arange(0, len(Y_tr))\n",
    "        np.random.shuffle(s)\n",
    "        \n",
    "        # Shuffle the order of the docs        \n",
    "        X = np.array(X_tr)[s]\n",
    "        Y = np.array(Y_tr)[s]\n",
    "        \n",
    "        # For each document in the training data descend in the gradient space         \n",
    "        for i, x in enumerate(X) :\n",
    "            weights -= lr * binary_loss_dev(x, Y[i], weights,alpha=alpha)\n",
    "        \n",
    "        # Record the training and validation losses       \n",
    "        training_loss_history.extend(binary_loss(X_tr, Y_tr, weights, alpha=alpha))        \n",
    "        validation_loss_history.extend(binary_loss(X_dev, Y_dev, weights, alpha=alpha))\n",
    "                 \n",
    "        if print_progress :\n",
    "            print(\"Epoch:\", e,\"| Training loss:\", training_loss_history[e],\"| Validation loss:\", validation_loss_history[e])\n",
    "        \n",
    "        # Stop when the difference between the current and previous validation loss is smaller than a threshold      \n",
    "        if e > 0 and np.abs(validation_loss_history[e - 1] - validation_loss_history[e]) < tolerance :\n",
    "            break\n",
    "\n",
    "    return weights, training_loss_history, validation_loss_history"
   ]
  },
  {
   "cell_type": "markdown",
   "metadata": {},
   "source": [
    "## Train and Evaluate Logistic Regression with Count vectors\n",
    "\n",
    "First train the model using SGD:"
   ]
  },
  {
   "cell_type": "code",
   "execution_count": 330,
   "metadata": {
    "ExecuteTime": {
     "end_time": "2020-02-15T14:17:51.480197Z",
     "start_time": "2020-02-15T14:17:46.362729Z"
    },
    "scrolled": true
   },
   "outputs": [
    {
     "name": "stderr",
     "output_type": "stream",
     "text": [
      "/Users/Jake/Documents/University/ComputerScience/YearFour/Text/env/lib/python3.7/site-packages/ipykernel_launcher.py:6: RuntimeWarning: divide by zero encountered in log\n",
      "  \n",
      "/Users/Jake/Documents/University/ComputerScience/YearFour/Text/env/lib/python3.7/site-packages/ipykernel_launcher.py:32: RuntimeWarning: invalid value encountered in subtract\n"
     ]
    },
    {
     "name": "stdout",
     "output_type": "stream",
     "text": [
      "Final {'learning_rate': 0.001, 'Alpha': 0.01, 'f1': 0.8564476885644767}\n"
     ]
    }
   ],
   "source": [
    "\"\"\"\n",
    "\n",
    "A Naïve form of a grid-search to find good hyperparameters\n",
    "\n",
    "\"\"\"\n",
    "learning_rate = np.logspace(-1, -4, 4)\n",
    "alpha = np.logspace(-1, -4, 4)\n",
    "\n",
    "# Save best params in a hash\n",
    "best = {\"learning_rate\" : 0, \"Alpha\" : 0, \"f1\" : 0} \n",
    "\n",
    "# for each hyperparam evaluate the model\n",
    "for rate in learning_rate :\n",
    "    for al in alpha :\n",
    "        w_count, loss_tr_count, dev_loss_count = SGD(X_tr_count, Y_tr, \n",
    "                                            X_dev=X_dev_count, \n",
    "                                            Y_dev=Y_dev,  \n",
    "                                            epochs=100,\n",
    "                                            lr=rate,\n",
    "                                            alpha=al,\n",
    "                                            print_progress=False)\n",
    "        \n",
    "        # Evaluate         \n",
    "        p = predict_class(X_test_count, w_count)\n",
    "        f1 = f1_score(Y_test, p.squeeze() // 1)\n",
    "        \n",
    "        # if the F1 score is better than prev then replace      \n",
    "        if f1 > best[\"f1\"]:\n",
    "             best = {\"learning_rate\" : rate, \"Alpha\" : al, \"f1\" : f1}\n",
    "\n",
    "print(\"Final\", best)"
   ]
  },
  {
   "cell_type": "code",
   "execution_count": 331,
   "metadata": {
    "scrolled": true
   },
   "outputs": [
    {
     "name": "stdout",
     "output_type": "stream",
     "text": [
      "Epoch: 0 | Training loss: [0.49440928] | Validation loss: [0.55627793]\n",
      "Epoch: 1 | Training loss: [0.42064031] | Validation loss: [0.51709535]\n",
      "Epoch: 2 | Training loss: [0.3744549] | Validation loss: [0.4964978]\n",
      "Epoch: 3 | Training loss: [0.34402809] | Validation loss: [0.48802015]\n",
      "Epoch: 4 | Training loss: [0.32568629] | Validation loss: [0.48100167]\n",
      "Epoch: 5 | Training loss: [0.30595253] | Validation loss: [0.477951]\n",
      "Epoch: 6 | Training loss: [0.29345698] | Validation loss: [0.47528786]\n",
      "Epoch: 7 | Training loss: [0.28366447] | Validation loss: [0.47624076]\n",
      "Epoch: 8 | Training loss: [0.27525469] | Validation loss: [0.47397944]\n",
      "Epoch: 9 | Training loss: [0.26867319] | Validation loss: [0.47391554]\n"
     ]
    }
   ],
   "source": [
    "# Using optimal hyperparams train one last time\n",
    "w_count, loss_tr_count, dev_loss_count = SGD(X_tr_count, Y_tr, \n",
    "                                             X_dev=X_dev_count, \n",
    "                                             Y_dev=Y_dev,  \n",
    "                                             epochs=100,\n",
    "                                                lr=best[\"learning_rate\"],\n",
    "                                                alpha=best[\"Alpha\"])\n"
   ]
  },
  {
   "cell_type": "code",
   "execution_count": 332,
   "metadata": {},
   "outputs": [
    {
     "data": {
      "image/png": "[encoded data removed]",
      "text/plain": [
       "<Figure size 432x288 with 1 Axes>"
      ]
     },
     "metadata": {
      "needs_background": "light"
     },
     "output_type": "display_data"
    }
   ],
   "source": [
    "\n",
    "plt.plot(loss_tr_count,label='Train Loss')\n",
    "plt.plot(dev_loss_count,label='Validation Loss')\n",
    "plt.legend(loc=\"upper left\")\n",
    "plt.ylabel(\"Loss\")\n",
    "plt.xlabel(\"Number of Epochs\")\n",
    "plt.title(\"Loss over Epochs\")\n",
    "plt.show()"
   ]
  },
  {
   "cell_type": "markdown",
   "metadata": {},
   "source": [
    "Now plot the training and validation history per epoch. Does your model underfit, overfit or is it about right? Explain why."
   ]
  },
  {
   "cell_type": "markdown",
   "metadata": {
    "ExecuteTime": {
     "end_time": "2020-01-21T16:52:26.583150Z",
     "start_time": "2020-01-21T16:52:26.578754Z"
    }
   },
   "source": [
    "The model can be shown to be overfitting the data. This can be see by the differetn rate of loss between the validation and training losses. The rate of training loss is greater than that of the validation loss and the gap between plots increases overtime."
   ]
  },
  {
   "cell_type": "markdown",
   "metadata": {},
   "source": [
    "Compute accuracy, precision, recall and F1-scores:"
   ]
  },
  {
   "cell_type": "code",
   "execution_count": 333,
   "metadata": {},
   "outputs": [],
   "source": [
    "def conf(pred, labels) :\n",
    "    N = len(np.unique(labels)) # Number of classes \n",
    "    result = np.zeros((N, N))\n",
    "    for i in range(len(Y_test)):\n",
    "        result[labels[i]][pred[i]] += 1\n",
    "    return result"
   ]
  },
  {
   "cell_type": "code",
   "execution_count": 334,
   "metadata": {
    "ExecuteTime": {
     "end_time": "2020-02-15T14:37:40.569499Z",
     "start_time": "2020-02-15T14:37:40.566796Z"
    }
   },
   "outputs": [
    {
     "name": "stdout",
     "output_type": "stream",
     "text": [
      "Confusion Matrix\n",
      "[[161.  39.]\n",
      " [ 23. 177.]]\n",
      "Accuracy: 0.845\n",
      "Precision: 0.8194444444444444\n",
      "Recall: 0.885\n",
      "F1-Score: 0.8509615384615384\n"
     ]
    }
   ],
   "source": [
    "# Make predictions\n",
    "preds_te_count = predict_class(X_test_count, w_count)\n",
    "# Convert to 1d vector of 1/0\n",
    "preds_te_count = preds_te_count.squeeze()//1\n",
    "print(\"Confusion Matrix\")\n",
    "print(conf(preds_te_count, Y_test))\n",
    "print('Accuracy:', accuracy_score(Y_test, preds_te_count))\n",
    "print('Precision:', precision_score(Y_test, preds_te_count))\n",
    "print('Recall:', recall_score(Y_test, preds_te_count))\n",
    "print('F1-Score:', f1_score(Y_test, preds_te_count))"
   ]
  },
  {
   "cell_type": "markdown",
   "metadata": {},
   "source": [
    "Finally, print the top-10 words for the negative and positive class respectively."
   ]
  },
  {
   "cell_type": "code",
   "execution_count": 335,
   "metadata": {
    "ExecuteTime": {
     "end_time": "2020-02-15T14:37:07.638179Z",
     "start_time": "2020-02-15T14:37:07.635838Z"
    }
   },
   "outputs": [
    {
     "name": "stdout",
     "output_type": "stream",
     "text": [
      "Most Positive: \n",
      "[('great',), ('fun',), ('hilarious',), ('life',), ('movies',), ('perfect',), ('american',), ('true',), ('perfectly',), ('simple',)]\n",
      "Most Negative: \n",
      "[('bad',), ('worst',), ('boring',), ('supposed',), ('plot',), ('script',), ('reason',), ('ridiculous',), ('stupid',), ('attempt',)]\n"
     ]
    }
   ],
   "source": [
    "pos = np.argsort(w_count)[0][::-1]\n",
    "neg = np.argsort(w_count)[0]\n",
    "print(\"Most Positive: \")\n",
    "print([v_id[x] for x in pos[:10]])\n",
    "print(\"Most Negative: \")\n",
    "print([v_id[x] for x in neg[:10]])"
   ]
  },
  {
   "cell_type": "markdown",
   "metadata": {},
   "source": [
    "comment on whether they make sense:\n",
    "\n",
    "These Ngrams do make sense. The most positive words express positive sentiment such as \"great\" and \"hilarious\". As well as the most negative words being \"bad\" and \"worst\"."
   ]
  },
  {
   "cell_type": "markdown",
   "metadata": {},
   "source": [
    "If we were to apply the classifier we've learned into a different domain such laptop reviews or restaurant reviews, do you think these features would generalise well? Can you propose what features the classifier could pick up as important in the new domain?"
   ]
  },
  {
   "cell_type": "markdown",
   "metadata": {},
   "source": [
    "In terms of generalisabilty, this model could be used in an other domains like laptop reviews. Features such as \"great\", \"simple\", and \"perfect\" for positive sentiment as well as \"bad\", \"worst\", and \"boring\" for negative sentiment would be picked up as important. \n",
    "\n",
    "However, context specific features such as \"movies\" and \"plot\" suggests that the model has overfitted to movies and could struggle in other domains.  "
   ]
  },
  {
   "cell_type": "markdown",
   "metadata": {},
   "source": [
    "### Discuss how did you choose model hyperparameters (e.g. learning rate and regularisation strength)? What is the relation between training epochs and learning rate? How the regularisation strength affects performance?"
   ]
  },
  {
   "cell_type": "markdown",
   "metadata": {
    "ExecuteTime": {
     "end_time": "2020-02-15T14:16:19.856538Z",
     "start_time": "2020-02-15T14:16:19.852547Z"
    }
   },
   "source": [
    "I chose my hyperparameters by using a very basic grid-search to go through a range of values (The ranges for both models were arbitrary for both models due to time taken to train the models). I went through each pair of values and evaluated its F1 score. I chose the pair that produced the highest F1 Score. If I had more time I would have tested more values as well as calculated an average for each pair to remove anomalous values.\n",
    "\n",
    "Smaller learning rates require more training epochs as each update only changes the weights a little, whereas larger learning rates result in larger jumps so require fewer epochs.\n",
    "\n",
    "A Regularisation value is a measure of the model's complexity. A Regularisation value encourages a model's weights, as well as its mean, to tend to zero. However, there is a trade-off with a large or small regularisation value. Too large and the model runs the risk of underfitting the data, and too small runs the risk of overfitting the data."
   ]
  },
  {
   "cell_type": "markdown",
   "metadata": {},
   "source": [
    "## Train and Evaluate Logistic Regression with TF.IDF vectors\n",
    "\n",
    "Follow the same steps as above (i.e. evaluating count n-gram representations).\n"
   ]
  },
  {
   "cell_type": "code",
   "execution_count": 336,
   "metadata": {
    "ExecuteTime": {
     "end_time": "2020-02-15T14:17:54.414637Z",
     "start_time": "2020-02-15T14:17:51.625934Z"
    },
    "scrolled": true
   },
   "outputs": [
    {
     "name": "stdout",
     "output_type": "stream",
     "text": [
      "Final {'learning_rate': 0.01, 'Alpha': 1e-05, 'f1': 0.874074074074074}\n"
     ]
    }
   ],
   "source": [
    "\"\"\"\n",
    "\n",
    "A Naïve form of a grid-search to find good hyperparameters\n",
    "\n",
    "\"\"\"\n",
    "\n",
    "learning_rate = np.logspace(-2, -5, 4)\n",
    "alpha = np.logspace(-2, -5, 4)\n",
    "\n",
    "# Save best params in a hash\n",
    "best = {\"learning_rate\" : 0, \"Alpha\" : 0, \"f1\" : 0} \n",
    "\n",
    "# for each hyperparam evaluate the model\n",
    "for rate in learning_rate :\n",
    "    for al in alpha :\n",
    "\n",
    "        w_tfidf, trl, devl = SGD(X_tr_tfidf, Y_tr, \n",
    "                                             X_dev=X_dev_tfidf, \n",
    "                                             Y_dev=Y_dev,  \n",
    "                                             epochs=100,\n",
    "                                                lr=rate,\n",
    "                                                    alpha=al,\n",
    "                                                    print_progress=False)\n",
    "        # Evaluate     \n",
    "        p = predict_class(X_test_tfidf, w_tfidf)\n",
    "        f1 = f1_score(Y_test, p.squeeze() // 1)\n",
    "        \n",
    "        # if the F1 score is better than prev then replace      \n",
    "        if f1 > best[\"f1\"]:\n",
    "             best = {\"learning_rate\" : rate, \"Alpha\" : al, \"f1\" : f1}\n",
    "                    \n",
    "print(\"Final\", best)"
   ]
  },
  {
   "cell_type": "code",
   "execution_count": 337,
   "metadata": {
    "scrolled": true
   },
   "outputs": [
    {
     "name": "stdout",
     "output_type": "stream",
     "text": [
      "Epoch: 0 | Training loss: [0.49443372] | Validation loss: [0.59017414]\n",
      "Epoch: 1 | Training loss: [0.39457887] | Validation loss: [0.53981015]\n",
      "Epoch: 2 | Training loss: [0.33190666] | Validation loss: [0.50844918]\n",
      "Epoch: 3 | Training loss: [0.28771364] | Validation loss: [0.48713464]\n",
      "Epoch: 4 | Training loss: [0.25461255] | Validation loss: [0.47159972]\n",
      "Epoch: 5 | Training loss: [0.22862585] | Validation loss: [0.45916746]\n",
      "Epoch: 6 | Training loss: [0.20772113] | Validation loss: [0.44837382]\n",
      "Epoch: 7 | Training loss: [0.19023266] | Validation loss: [0.44046194]\n",
      "Epoch: 8 | Training loss: [0.1756368] | Validation loss: [0.43401405]\n",
      "Epoch: 9 | Training loss: [0.16313011] | Validation loss: [0.42790424]\n",
      "Epoch: 10 | Training loss: [0.15230997] | Validation loss: [0.42234792]\n",
      "Epoch: 11 | Training loss: [0.14286022] | Validation loss: [0.4178983]\n",
      "Epoch: 12 | Training loss: [0.13454466] | Validation loss: [0.41382591]\n",
      "Epoch: 13 | Training loss: [0.12715717] | Validation loss: [0.41109577]\n",
      "Epoch: 14 | Training loss: [0.12053985] | Validation loss: [0.40805409]\n",
      "Epoch: 15 | Training loss: [0.11455517] | Validation loss: [0.40483978]\n",
      "Epoch: 16 | Training loss: [0.10917467] | Validation loss: [0.4021367]\n",
      "Epoch: 17 | Training loss: [0.10427701] | Validation loss: [0.39999584]\n",
      "Epoch: 18 | Training loss: [0.09980991] | Validation loss: [0.39815892]\n",
      "Epoch: 19 | Training loss: [0.0957222] | Validation loss: [0.39594923]\n",
      "Epoch: 20 | Training loss: [0.09195364] | Validation loss: [0.39462861]\n",
      "Epoch: 21 | Training loss: [0.08848183] | Validation loss: [0.39304649]\n",
      "Epoch: 22 | Training loss: [0.08526809] | Validation loss: [0.39155136]\n",
      "Epoch: 23 | Training loss: [0.08228693] | Validation loss: [0.3901756]\n",
      "Epoch: 24 | Training loss: [0.07951716] | Validation loss: [0.38913503]\n",
      "Epoch: 25 | Training loss: [0.07692843] | Validation loss: [0.38787668]\n",
      "Epoch: 26 | Training loss: [0.07451233] | Validation loss: [0.38688637]\n",
      "Epoch: 27 | Training loss: [0.07224774] | Validation loss: [0.38577783]\n",
      "Epoch: 28 | Training loss: [0.07012372] | Validation loss: [0.38492448]\n",
      "Epoch: 29 | Training loss: [0.06813031] | Validation loss: [0.38426708]\n",
      "Epoch: 30 | Training loss: [0.06624712] | Validation loss: [0.38334607]\n",
      "Epoch: 31 | Training loss: [0.06447263] | Validation loss: [0.38252192]\n",
      "Epoch: 32 | Training loss: [0.06280071] | Validation loss: [0.3816052]\n",
      "Epoch: 33 | Training loss: [0.0612116] | Validation loss: [0.38112042]\n",
      "Epoch: 34 | Training loss: [0.05971016] | Validation loss: [0.38069648]\n",
      "Epoch: 35 | Training loss: [0.058284] | Validation loss: [0.37999041]\n",
      "Epoch: 36 | Training loss: [0.05693013] | Validation loss: [0.37948405]\n",
      "Epoch: 37 | Training loss: [0.05564377] | Validation loss: [0.37910646]\n",
      "Epoch: 38 | Training loss: [0.05441755] | Validation loss: [0.37860798]\n",
      "Epoch: 39 | Training loss: [0.05324854] | Validation loss: [0.37807904]\n",
      "Epoch: 40 | Training loss: [0.05213394] | Validation loss: [0.37757445]\n",
      "Epoch: 41 | Training loss: [0.05106937] | Validation loss: [0.37729343]\n",
      "Epoch: 42 | Training loss: [0.05005145] | Validation loss: [0.37687908]\n",
      "Epoch: 43 | Training loss: [0.04907758] | Validation loss: [0.37648944]\n",
      "Epoch: 44 | Training loss: [0.04814522] | Validation loss: [0.3762398]\n",
      "Epoch: 45 | Training loss: [0.04725183] | Validation loss: [0.37597644]\n",
      "Epoch: 46 | Training loss: [0.04639528] | Validation loss: [0.37574195]\n",
      "Epoch: 47 | Training loss: [0.04557158] | Validation loss: [0.3754263]\n",
      "Epoch: 48 | Training loss: [0.04478036] | Validation loss: [0.37511589]\n",
      "Epoch: 49 | Training loss: [0.04401971] | Validation loss: [0.37478708]\n",
      "Epoch: 50 | Training loss: [0.04328833] | Validation loss: [0.37454399]\n",
      "Epoch: 51 | Training loss: [0.04258453] | Validation loss: [0.37438566]\n",
      "Epoch: 52 | Training loss: [0.04190649] | Validation loss: [0.37419275]\n",
      "Epoch: 53 | Training loss: [0.0412528] | Validation loss: [0.37400105]\n",
      "Epoch: 54 | Training loss: [0.04062209] | Validation loss: [0.37378848]\n",
      "Epoch: 55 | Training loss: [0.0400133] | Validation loss: [0.37349325]\n",
      "Epoch: 56 | Training loss: [0.03942577] | Validation loss: [0.37336109]\n",
      "Epoch: 57 | Training loss: [0.03885815] | Validation loss: [0.37318327]\n",
      "Epoch: 58 | Training loss: [0.03830991] | Validation loss: [0.3731348]\n"
     ]
    }
   ],
   "source": [
    "# Using optimal hyperparams train one last time on tf.idf\n",
    "w_tfidf, trl, devl = SGD(X_tr_tfidf, Y_tr, \n",
    "                         X_dev=X_dev_tfidf, \n",
    "                         Y_dev=Y_dev,\n",
    "                         epochs=200,\n",
    "                         lr=best[\"learning_rate\"],\n",
    "                        alpha=best[\"Alpha\"])"
   ]
  },
  {
   "cell_type": "code",
   "execution_count": 338,
   "metadata": {
    "ExecuteTime": {
     "end_time": "2020-02-15T14:17:54.517668Z",
     "start_time": "2020-02-15T14:17:54.417118Z"
    }
   },
   "outputs": [
    {
     "data": {
      "image/png": "[encoded data removed]",
      "text/plain": [
       "<Figure size 432x288 with 1 Axes>"
      ]
     },
     "metadata": {
      "needs_background": "light"
     },
     "output_type": "display_data"
    }
   ],
   "source": [
    "# fill in your code...\n",
    "plt.plot(trl,label='Train Loss')\n",
    "plt.plot(devl,label='Validation Loss')\n",
    "plt.legend(loc=\"upper left\")\n",
    "plt.ylabel(\"Loss\")\n",
    "plt.xlabel(\"Number of Epochs\")\n",
    "plt.title(\"Loss over Epochs\")\n",
    "plt.show()"
   ]
  },
  {
   "cell_type": "markdown",
   "metadata": {},
   "source": [
    "Now plot the training and validation history per epoch. Does your model underfit, overfit or is it about right? Explain why."
   ]
  },
  {
   "cell_type": "markdown",
   "metadata": {},
   "source": [
    "The model can be shown to be overfitting the data. This can be see by the differetn rate of loss between the validation and training losses. The rate of training loss is greater than that of the validation loss and the gap between plots increases overtime."
   ]
  },
  {
   "cell_type": "markdown",
   "metadata": {},
   "source": [
    "Compute accuracy, precision, recall and F1-scores:"
   ]
  },
  {
   "cell_type": "code",
   "execution_count": 339,
   "metadata": {
    "ExecuteTime": {
     "end_time": "2020-02-15T14:37:56.489814Z",
     "start_time": "2020-02-15T14:37:56.487014Z"
    }
   },
   "outputs": [
    {
     "name": "stdout",
     "output_type": "stream",
     "text": [
      "Confusion Matrix\n",
      "[[171.  29.]\n",
      " [ 23. 177.]]\n",
      "Accuracy: 0.87\n",
      "Precision: 0.8592233009708737\n",
      "Recall: 0.885\n",
      "F1-Score: 0.8719211822660098\n"
     ]
    }
   ],
   "source": [
    "# Make Predictions\n",
    "preds_te_tfidf = predict_class(X_test_tfidf, w_tfidf)\n",
    "preds_te_tfidf = preds_te_tfidf.squeeze()//1\n",
    "\n",
    "print(\"Confusion Matrix\")\n",
    "print(conf(preds_te_tfidf, Y_test))\n",
    "print('Accuracy:', accuracy_score(Y_test, preds_te_tfidf))\n",
    "print('Precision:', precision_score(Y_test, preds_te_tfidf))\n",
    "print('Recall:', recall_score(Y_test, preds_te_tfidf))\n",
    "print('F1-Score:', f1_score(Y_test, preds_te_tfidf))"
   ]
  },
  {
   "cell_type": "markdown",
   "metadata": {},
   "source": [
    "Print top-10 most positive and negative words:"
   ]
  },
  {
   "cell_type": "code",
   "execution_count": 340,
   "metadata": {
    "ExecuteTime": {
     "end_time": "2020-02-15T14:38:17.845485Z",
     "start_time": "2020-02-15T14:38:17.842557Z"
    }
   },
   "outputs": [
    {
     "name": "stdout",
     "output_type": "stream",
     "text": [
      "Most Positive: \n",
      "[('hilarious',), ('terrific',), ('memorable',), ('excellent',), ('perfectly',), ('fun',), ('great',), ('enjoyed',), ('perfect',), ('superb',)]\n",
      "Most Negative: \n",
      "[('bad',), ('worst',), ('boring',), ('supposed',), ('waste',), ('ridiculous',), ('poor',), ('minute',), ('stupid',), ('fails',)]\n"
     ]
    }
   ],
   "source": [
    "pos = np.argsort(w_tfidf)[0][::-1]\n",
    "neg = np.argsort(w_tfidf)[0]\n",
    "print(\"Most Positive: \")\n",
    "print([v_id[x] for x in pos[:10]])\n",
    "print(\"Most Negative: \")\n",
    "print([v_id[x] for x in neg[:10]])"
   ]
  },
  {
   "cell_type": "markdown",
   "metadata": {},
   "source": [
    "comment on whether they make sense:\n",
    "\n",
    "These words make sense. Furthermore, all these features express sentiment unlike the raw count features which epressed several features that were context specific to movie reviews"
   ]
  },
  {
   "cell_type": "markdown",
   "metadata": {},
   "source": [
    "If we were to apply the classifier we've learned into a different domain such laptop reviews or restaurant reviews, do you think these features would generalise well? Can you propose what features the classifier could pick up as important in the new domain?"
   ]
  },
  {
   "cell_type": "markdown",
   "metadata": {
    "ExecuteTime": {
     "end_time": "2020-02-15T14:38:22.781128Z",
     "start_time": "2020-02-15T14:38:22.778590Z"
    }
   },
   "source": [
    "These features suggest that this model could perform/generalise well in other domains such as laptop reviews as all these features express sentiment. For exaple, features like \"excellent\" and \"worst\". "
   ]
  },
  {
   "cell_type": "markdown",
   "metadata": {},
   "source": [
    "### Discuss how did you choose model hyperparameters (e.g. learning rate and regularisation strength)? What is the relation between training epochs and learning rate? How the regularisation strength affects performance?"
   ]
  },
  {
   "cell_type": "markdown",
   "metadata": {},
   "source": [
    "I chose my hyperparameters by using a very basic grid-search to go through a range of values (The ranges for both models were arbitrary for both models due to time taken to train the models). I went through each pair of values and evaluated its F1 score. I chose the pair that produced the highest F1 Score. If I had more time I would have tested more values as well as calculated an average for each pair to remove anomalous values.\n",
    "\n",
    "Smaller learning rates require more training epochs as each update only changes the weights a little, whereas larger learning rates result in larger jumps so require fewer epochs.\n",
    "\n",
    "A Regularisation value is a measure of the model's complexity. A Regularisation value encourages a model's weights, as well as its mean, to tend to zero. However, there is a trade-off with a large or small regularisation value. Too large and the model runs the risk of underfitting the data, and too small runs the risk of overfitting the data."
   ]
  },
  {
   "cell_type": "markdown",
   "metadata": {},
   "source": [
    "\n",
    "\n",
    "## Full Results\n",
    "\n",
    "Add here your results: to 3.s.f\n",
    "\n",
    "| LR | Precision  | Recall  | F1-Score  |\n",
    "|:-:|:-:|:-:|:-:|\n",
    "| BOW-count  | 0.819 | 0.885 |  0.851 |\n",
    "| BOW-tfidf  |  0.859 | 0.885 | 0.872  |\n"
   ]
  },
  {
   "cell_type": "markdown",
   "metadata": {},
   "source": [
    "# Multi-class Logistic Regression \n",
    "\n",
    "Now you need to train a Multiclass Logistic Regression (MLR) Classifier by extending the Binary model you developed above. You will use the MLR model to perform topic classification on the AG news dataset consisting of three classes:"
   ]
  },
  {
   "cell_type": "markdown",
   "metadata": {},
   "source": [
    "- Class 1: World\n",
    "- Class 2: Sports\n",
    "- Class 3: Business"
   ]
  },
  {
   "cell_type": "markdown",
   "metadata": {},
   "source": [
    "You need to follow the same process as in Task 1 for data processing and feature extraction by reusing the functions you wrote."
   ]
  },
  {
   "cell_type": "code",
   "execution_count": 341,
   "metadata": {
    "ExecuteTime": {
     "end_time": "2020-02-15T14:18:03.515585Z",
     "start_time": "2020-02-15T14:18:03.508299Z"
    }
   },
   "outputs": [],
   "source": [
    "# LOAD TRAINING DATA\n",
    "data_topic_train_data = list(data_topic_train.loc[:,\"Text\"])\n",
    "Y_tr = np.array(data_topic_train.loc[:,\"Label\"])\n",
    "\n",
    "# LOAD TEST DATA\n",
    "data_topic_test_data = list(data_topic_test.loc[:,\"Text\"])\n",
    "Y_test = np.array(data_topic_test.loc[:,\"Label\"])\n",
    "\n",
    "# LOAD VALIDATION DATA\n",
    "data_topic_dev_data = list(data_topic_dev.loc[:,\"Text\"])\n",
    "Y_dev = np.array(data_topic_dev.loc[:,\"Label\"])"
   ]
  },
  {
   "cell_type": "code",
   "execution_count": 342,
   "metadata": {
    "ExecuteTime": {
     "end_time": "2020-02-15T14:18:04.706802Z",
     "start_time": "2020-02-15T14:18:04.511061Z"
    }
   },
   "outputs": [],
   "source": [
    "# Extract the new vocab, document frequencies, and counts\n",
    "vocab, df, ngram_counts = get_vocab(data_topic_train_data, ngram_range=(1,3), keep_topN=5000, stop_words=stop_words)\n",
    "\n",
    "v_id = {i: v for i, v in enumerate(vocab)}\n",
    "w_id = {v: i for i, v in v_id.items()}\n",
    "\n",
    "# GET dicts for the data\n",
    "tr_ngram_count = [extract_ngrams(x, stop_words=stop_words) for x in data_topic_train_data]\n",
    "dev_ngram_count = [extract_ngrams(x, stop_words=stop_words) for x in data_topic_dev_data]\n",
    "test_ngram_count = [extract_ngrams(x, stop_words=stop_words) for x in data_topic_test_data]\n",
    "\n",
    "# TRAINING COUNT MATRIX\n",
    "X_tr_count = vectorise(tr_ngram_count, vocab)\n",
    "# DEV COUNT MATRIX\n",
    "X_dev_count = vectorise(dev_ngram_count, vocab)\n",
    "# TEST COUNT MATRIX\n",
    "X_test_count = vectorise(test_ngram_count, vocab)\n",
    "\n",
    "\n",
    "no_docs = len(tr_ngram_count)\n",
    "idf = tfidf(no_docs, df, v_id)\n",
    "# Get tf.idf bag-of-words\n",
    "X_tr_tfidf = np.log10(1 + X_tr_count) * idf\n",
    "X_dev_tfidf = np.log10(1 + X_dev_count) * idf\n",
    "X_test_tfidf = np.log10(1 + X_test_count) * idf\n",
    "\n"
   ]
  },
  {
   "cell_type": "markdown",
   "metadata": {},
   "source": [
    "Now you need to change `SGD` to support multiclass datasets. First you need to develop a `softmax` function. It takes as input:\n",
    "\n",
    "- `z`: array of real numbers \n",
    "\n",
    "and returns:\n",
    "\n",
    "- `smax`: the softmax of `z`"
   ]
  },
  {
   "cell_type": "code",
   "execution_count": 343,
   "metadata": {
    "ExecuteTime": {
     "end_time": "2020-02-15T14:18:07.440998Z",
     "start_time": "2020-02-15T14:18:07.437915Z"
    }
   },
   "outputs": [],
   "source": [
    "def softmax(z):\n",
    "    # Subtract the max value in z to all elements \n",
    "    # Too make the function numerically stable with large numbers     \n",
    "    z -= np.max(z)\n",
    "    smax = np.exp(z) / np.sum(np.exp(z))\n",
    "    \n",
    "    return smax"
   ]
  },
  {
   "cell_type": "markdown",
   "metadata": {},
   "source": [
    "Then modify `predict_proba` and `predict_class` functions for the multiclass case:"
   ]
  },
  {
   "cell_type": "code",
   "execution_count": 344,
   "metadata": {
    "ExecuteTime": {
     "end_time": "2020-02-15T14:18:07.445451Z",
     "start_time": "2020-02-15T14:18:07.442851Z"
    }
   },
   "outputs": [],
   "source": [
    "def predict_proba(X, weights):\n",
    "    # Obtain the probabilties using softmax    \n",
    "    preds_proba = np.dot(X, weights.T)\n",
    "    preds_proba = softmax(preds_proba)\n",
    "    return preds_proba"
   ]
  },
  {
   "cell_type": "code",
   "execution_count": 345,
   "metadata": {
    "ExecuteTime": {
     "end_time": "2020-02-15T14:18:07.449814Z",
     "start_time": "2020-02-15T14:18:07.447145Z"
    }
   },
   "outputs": [],
   "source": [
    "def predict_class(X, weights):\n",
    "    # Predict the class using argmax     \n",
    "    preds_class = predict_proba(X, weights)\n",
    "    pre = np.argmax(preds_class, axis=1)\n",
    "    return pre"
   ]
  },
  {
   "cell_type": "markdown",
   "metadata": {},
   "source": [
    "Toy example and expected functionality of the functions above:"
   ]
  },
  {
   "cell_type": "code",
   "execution_count": 346,
   "metadata": {
    "ExecuteTime": {
     "end_time": "2020-02-15T14:18:08.059902Z",
     "start_time": "2020-02-15T14:18:08.056774Z"
    }
   },
   "outputs": [
    {
     "name": "stdout",
     "output_type": "stream",
     "text": [
      "(3, 2) (2, 2)\n"
     ]
    }
   ],
   "source": [
    "X = np.array([[0.1,0.2],[0.2,0.1],[0.1,-0.2]])\n",
    "w = np.array([[2,-5],[-5,2]])\n",
    "\n",
    "print(X.shape, w.shape)"
   ]
  },
  {
   "cell_type": "code",
   "execution_count": 347,
   "metadata": {
    "ExecuteTime": {
     "end_time": "2020-02-15T14:18:08.495464Z",
     "start_time": "2020-02-15T14:18:08.491074Z"
    }
   },
   "outputs": [
    {
     "data": {
      "text/plain": [
       "array([[0.06982558, 0.14061145],\n",
       "       [0.14061145, 0.06982558],\n",
       "       [0.51594513, 0.0631808 ]])"
      ]
     },
     "execution_count": 347,
     "metadata": {},
     "output_type": "execute_result"
    }
   ],
   "source": [
    "predict_proba(X, w)"
   ]
  },
  {
   "cell_type": "code",
   "execution_count": 348,
   "metadata": {
    "ExecuteTime": {
     "end_time": "2020-02-15T14:18:08.714215Z",
     "start_time": "2020-02-15T14:18:08.710098Z"
    }
   },
   "outputs": [
    {
     "data": {
      "text/plain": [
       "array([1, 0, 0])"
      ]
     },
     "execution_count": 348,
     "metadata": {},
     "output_type": "execute_result"
    }
   ],
   "source": [
    "predict_class(X, w)"
   ]
  },
  {
   "cell_type": "markdown",
   "metadata": {},
   "source": [
    "Now you need to compute the categorical cross entropy loss (extending the binary loss to support multiple classes)."
   ]
  },
  {
   "cell_type": "code",
   "execution_count": 349,
   "metadata": {
    "ExecuteTime": {
     "end_time": "2020-02-15T14:30:48.047338Z",
     "start_time": "2020-02-15T14:30:48.044395Z"
    }
   },
   "outputs": [],
   "source": [
    "def categorical_loss_dev(X, Y, weights, num_classes=5, alpha=0.00001):\n",
    "\n",
    "    # init loss \n",
    "    loss = np.zeros(shape=(weights.shape))\n",
    "    # Calculate probabilities     \n",
    "    prob = predict_proba(X, weights)\n",
    "    \n",
    "    # Calculate the derivative of the loss     \n",
    "    loss[Y] = X * (prob[Y] - 1)\n",
    "    \n",
    "    # Apply the derived regulisation term to the loss    \n",
    "    return loss + 2 * alpha * weights\n",
    "\n",
    "    "
   ]
  },
  {
   "cell_type": "code",
   "execution_count": 350,
   "metadata": {},
   "outputs": [],
   "source": [
    "def categorical_loss(X, Y, weights, num_classes=5, alpha=0.00001):\n",
    "    \n",
    "    # init loss \n",
    "    loss = 0\n",
    "    # Calculate the loss for each document in X    \n",
    "    for i, y in enumerate(Y) :  \n",
    "        prob = predict_proba(X[i], weights)\n",
    "        loss += -np.log(prob[y])\n",
    "    \n",
    "    # Return the average loss + regulisation term     \n",
    "    return loss/len(Y) + alpha * np.sum(weights**2)"
   ]
  },
  {
   "cell_type": "markdown",
   "metadata": {
    "ExecuteTime": {
     "end_time": "2020-02-15T14:08:59.937442Z",
     "start_time": "2020-02-15T14:08:59.932221Z"
    }
   },
   "source": [
    "Finally you need to modify SGD to support the categorical cross entropy loss:"
   ]
  },
  {
   "cell_type": "code",
   "execution_count": 351,
   "metadata": {
    "ExecuteTime": {
     "end_time": "2020-02-15T14:18:10.176885Z",
     "start_time": "2020-02-15T14:18:10.165021Z"
    }
   },
   "outputs": [],
   "source": [
    "def SGD(X_tr, Y_tr, X_dev=[], Y_dev=[], num_classes=5, lr=0.01, alpha=0.00001, epochs=5, tolerance=0.001, print_progress=True):\n",
    "    \n",
    "\n",
    "    training_loss_history = []\n",
    "    validation_loss_history = []\n",
    "    \n",
    "    #  Init weights with zeros   \n",
    "    weights = np.zeros(shape=(num_classes, X_tr.shape[1]))\n",
    "    \n",
    "    # For each epoch     \n",
    "    for e in range(epochs) :\n",
    "        \n",
    "        # Shuffle documents         \n",
    "        s = np.arange(0, len(Y_tr))\n",
    "        np.random.shuffle(s)\n",
    "        \n",
    "        # Shuffle the order of the docs        \n",
    "        X = np.array(X_tr)[s]\n",
    "        Y = np.array(Y_tr)[s]\n",
    "        \n",
    "        # For each document calculate the gradient and descend        \n",
    "        for i, x in enumerate(X) :\n",
    "            weights -= lr * categorical_loss_dev(x, Y[i], weights, alpha=alpha, num_classes=num_classes)\n",
    "        \n",
    "        # record losses      \n",
    "        training_loss_history.append(categorical_loss(X_tr, Y_tr, weights, alpha=alpha, num_classes=num_classes))   \n",
    "        validation_loss_history.append(categorical_loss(X_dev, Y_dev, weights, alpha=alpha, num_classes=num_classes))\n",
    "        \n",
    "        if print_progress :\n",
    "            print(\"Epoch:\", e,\"| Training loss:\", training_loss_history[e],\"| Validation loss:\", validation_loss_history[e])\n",
    "        \n",
    "        # Stop when the difference between the current and previous validation loss is smaller than a threshold      \n",
    "        if e > 1 and np.abs(validation_loss_history[e - 1] - validation_loss_history[e]) < tolerance :\n",
    "            break\n",
    "\n",
    "    return weights, training_loss_history, validation_loss_history"
   ]
  },
  {
   "cell_type": "markdown",
   "metadata": {
    "ExecuteTime": {
     "end_time": "2020-02-15T14:10:15.772383Z",
     "start_time": "2020-02-15T14:10:15.767855Z"
    }
   },
   "source": [
    "Now you are ready to train and evaluate you MLR following the same steps as in Task 1 for both Count and tfidf features:"
   ]
  },
  {
   "cell_type": "code",
   "execution_count": 352,
   "metadata": {
    "ExecuteTime": {
     "end_time": "2020-02-15T14:18:55.324956Z",
     "start_time": "2020-02-15T14:18:11.720952Z"
    },
    "scrolled": true
   },
   "outputs": [
    {
     "name": "stdout",
     "output_type": "stream",
     "text": [
      "0.1 0.0001\n",
      "0.1 1e-05\n",
      "0.1 1e-06\n",
      "0.01 0.0001\n",
      "0.01 1e-05\n",
      "0.01 1e-06\n",
      "0.001 0.0001\n",
      "0.001 1e-05\n",
      "0.001 1e-06\n",
      "Final {'learning_rate': 0.001, 'Alpha': 0.0001, 'f1': 0.8688188195620731}\n"
     ]
    }
   ],
   "source": [
    "\"\"\"\n",
    "\n",
    "A Naïve form of a grid-search to find good hyperparameters\n",
    "\n",
    "\"\"\"\n",
    "learning_rate = np.logspace(-1, -3, 3)\n",
    "alpha = np.logspace(-4, -6, 3)\n",
    "\n",
    "# Save best params in a hash\n",
    "best = {\"learning_rate\" : 0, \"Alpha\" : 0, \"f1\" : 0} \n",
    "\n",
    "# for each hyperparameter\n",
    "for rate in learning_rate :\n",
    "    for al in alpha :\n",
    "        print(rate,al)\n",
    "        w_count, loss_tr_count, dev_loss_count = SGD(X_tr_count, Y_tr - 1, \n",
    "                                                X_dev=X_dev_count, \n",
    "                                                Y_dev=Y_dev - 1, \n",
    "                                                num_classes=3,\n",
    "                                                epochs=100,\n",
    "                                                lr=rate,\n",
    "                                                alpha=al,\n",
    "                                                print_progress=False)\n",
    "        # Evaluate  \n",
    "        p = predict_class(X_test_count, w_count)\n",
    "        f1 = f1_score(Y_test - 1, p.squeeze(), average='macro')\n",
    "              \n",
    "        if f1 > best[\"f1\"]:\n",
    "             best = {\"learning_rate\" : rate, \"Alpha\" : al, \"f1\" : f1}\n",
    "                    \n",
    "print(\"Final\", best)"
   ]
  },
  {
   "cell_type": "code",
   "execution_count": 353,
   "metadata": {
    "scrolled": true
   },
   "outputs": [
    {
     "name": "stdout",
     "output_type": "stream",
     "text": [
      "Epoch: 0 | Training loss: 0.9757768363812795 | Validation loss: 1.0386695889431747\n",
      "Epoch: 1 | Training loss: 0.8926981578077007 | Validation loss: 0.9915021094077285\n",
      "Epoch: 2 | Training loss: 0.8297093908700244 | Validation loss: 0.9517713198533554\n",
      "Epoch: 3 | Training loss: 0.7796362357383748 | Validation loss: 0.9175156363086793\n",
      "Epoch: 4 | Training loss: 0.7385052031713584 | Validation loss: 0.8874697731130149\n",
      "Epoch: 5 | Training loss: 0.7039765172202689 | Validation loss: 0.86092390272327\n",
      "Epoch: 6 | Training loss: 0.674362156427306 | Validation loss: 0.8372038441068257\n",
      "Epoch: 7 | Training loss: 0.6485951027460155 | Validation loss: 0.8158823529934582\n",
      "Epoch: 8 | Training loss: 0.6259005925214388 | Validation loss: 0.7965818506770842\n",
      "Epoch: 9 | Training loss: 0.6056955285733022 | Validation loss: 0.7790102780790952\n",
      "Epoch: 10 | Training loss: 0.5875520023977826 | Validation loss: 0.7629329082673548\n",
      "Epoch: 11 | Training loss: 0.571147567731156 | Validation loss: 0.7481632686067579\n",
      "Epoch: 12 | Training loss: 0.5562230613233325 | Validation loss: 0.7345681961078294\n",
      "Epoch: 13 | Training loss: 0.5425634481864647 | Validation loss: 0.7219771768727237\n",
      "Epoch: 14 | Training loss: 0.5299983795436652 | Validation loss: 0.710297982724522\n",
      "Epoch: 15 | Training loss: 0.5183992158439101 | Validation loss: 0.6994266467590373\n",
      "Epoch: 16 | Training loss: 0.5076461262797639 | Validation loss: 0.6892846569821308\n",
      "Epoch: 17 | Training loss: 0.49763749546464553 | Validation loss: 0.6797859302332458\n",
      "Epoch: 18 | Training loss: 0.488299800181027 | Validation loss: 0.670882930581769\n",
      "Epoch: 19 | Training loss: 0.47956216412604924 | Validation loss: 0.662507277698234\n",
      "Epoch: 20 | Training loss: 0.47136616600328235 | Validation loss: 0.6546287063841546\n",
      "Epoch: 21 | Training loss: 0.4636565575799837 | Validation loss: 0.6471996932318509\n",
      "Epoch: 22 | Training loss: 0.4563872216887594 | Validation loss: 0.6401791665434156\n",
      "Epoch: 23 | Training loss: 0.44952113305255276 | Validation loss: 0.6335404537655659\n",
      "Epoch: 24 | Training loss: 0.44302626168726916 | Validation loss: 0.627250057168018\n",
      "Epoch: 25 | Training loss: 0.43686753628120295 | Validation loss: 0.6212780802892484\n",
      "Epoch: 26 | Training loss: 0.4310214800895976 | Validation loss: 0.6155984027738897\n",
      "Epoch: 27 | Training loss: 0.42546145162986665 | Validation loss: 0.6102094318261749\n",
      "Epoch: 28 | Training loss: 0.4201642920785155 | Validation loss: 0.605077083564933\n",
      "Epoch: 29 | Training loss: 0.4151157185502461 | Validation loss: 0.6001783220025906\n",
      "Epoch: 30 | Training loss: 0.41029588278967677 | Validation loss: 0.5955073530250296\n",
      "Epoch: 31 | Training loss: 0.40568724271148693 | Validation loss: 0.5910499608324598\n",
      "Epoch: 32 | Training loss: 0.4012787491394392 | Validation loss: 0.5868000944303243\n",
      "Epoch: 33 | Training loss: 0.39705622011091496 | Validation loss: 0.5827292819688454\n",
      "Epoch: 34 | Training loss: 0.3930071350327689 | Validation loss: 0.5788342133591815\n",
      "Epoch: 35 | Training loss: 0.389121197440541 | Validation loss: 0.5751076039469322\n",
      "Epoch: 36 | Training loss: 0.3853882646431746 | Validation loss: 0.5715296711809646\n",
      "Epoch: 37 | Training loss: 0.3817991876258306 | Validation loss: 0.5680938210855068\n",
      "Epoch: 38 | Training loss: 0.37834612093075054 | Validation loss: 0.564801196235339\n",
      "Epoch: 39 | Training loss: 0.37502281001999915 | Validation loss: 0.5616427484405929\n",
      "Epoch: 40 | Training loss: 0.3718200173710681 | Validation loss: 0.5586096683872085\n",
      "Epoch: 41 | Training loss: 0.3687327938239101 | Validation loss: 0.5556927284252078\n",
      "Epoch: 42 | Training loss: 0.3657527316790326 | Validation loss: 0.5528885978196162\n",
      "Epoch: 43 | Training loss: 0.3628773250196926 | Validation loss: 0.5501933805219933\n",
      "Epoch: 44 | Training loss: 0.3600983214583877 | Validation loss: 0.5475986963984021\n",
      "Epoch: 45 | Training loss: 0.3574135316175244 | Validation loss: 0.5451040354905772\n",
      "Epoch: 46 | Training loss: 0.35481733588983594 | Validation loss: 0.5426972606058489\n",
      "Epoch: 47 | Training loss: 0.35230528382959725 | Validation loss: 0.5403790770912509\n",
      "Epoch: 48 | Training loss: 0.34987414823039803 | Validation loss: 0.538149271452474\n",
      "Epoch: 49 | Training loss: 0.3475208077796515 | Validation loss: 0.5359952285679587\n",
      "Epoch: 50 | Training loss: 0.34524115000901034 | Validation loss: 0.5339220879566348\n",
      "Epoch: 51 | Training loss: 0.3430306997734499 | Validation loss: 0.531922851060731\n",
      "Epoch: 52 | Training loss: 0.34088842270737246 | Validation loss: 0.5299950278358285\n",
      "Epoch: 53 | Training loss: 0.3388098483929065 | Validation loss: 0.5281298719270948\n",
      "Epoch: 54 | Training loss: 0.3367932238510872 | Validation loss: 0.5263376866816204\n",
      "Epoch: 55 | Training loss: 0.33483620082631904 | Validation loss: 0.5246057443478324\n",
      "Epoch: 56 | Training loss: 0.33293471499723915 | Validation loss: 0.5229245568274633\n",
      "Epoch: 57 | Training loss: 0.3310887521975759 | Validation loss: 0.5213086035020591\n",
      "Epoch: 58 | Training loss: 0.32929496367678096 | Validation loss: 0.5197517178759111\n",
      "Epoch: 59 | Training loss: 0.32755075394374106 | Validation loss: 0.5182459209049256\n",
      "Epoch: 60 | Training loss: 0.32585655183904483 | Validation loss: 0.516795803934853\n",
      "Epoch: 61 | Training loss: 0.32420732912067146 | Validation loss: 0.5153886778742626\n",
      "Epoch: 62 | Training loss: 0.32260326276390083 | Validation loss: 0.5140322706916564\n",
      "Epoch: 63 | Training loss: 0.32104217284734626 | Validation loss: 0.5127201705288565\n",
      "Epoch: 64 | Training loss: 0.3195241251362389 | Validation loss: 0.511461206014645\n",
      "Epoch: 65 | Training loss: 0.3180456034071637 | Validation loss: 0.5102488893294702\n",
      "Epoch: 66 | Training loss: 0.3166057795548078 | Validation loss: 0.509073254141149\n",
      "Epoch: 67 | Training loss: 0.31520338264928577 | Validation loss: 0.507933405412588\n",
      "Epoch: 68 | Training loss: 0.313837109834145 | Validation loss: 0.5068314881731403\n",
      "Epoch: 69 | Training loss: 0.31250649775470213 | Validation loss: 0.5057717861702363\n",
      "Epoch: 70 | Training loss: 0.3112100452323182 | Validation loss: 0.5047530150965296\n",
      "Epoch: 71 | Training loss: 0.30994545681713714 | Validation loss: 0.5037596134647986\n"
     ]
    }
   ],
   "source": [
    "# Use searched hyperparameters\n",
    "w_count, loss_tr_count, dev_loss_count = SGD(X_tr_count, Y_tr-1, \n",
    "                                             X_dev=X_dev_count, \n",
    "                                             Y_dev=Y_dev-1 ,\n",
    "                                             num_classes=3,\n",
    "                                             lr=best[\"learning_rate\"],\n",
    "                                             alpha=best[\"Alpha\"],\n",
    "                                             epochs=200)"
   ]
  },
  {
   "cell_type": "code",
   "execution_count": 354,
   "metadata": {
    "ExecuteTime": {
     "end_time": "2020-02-15T14:31:09.903453Z",
     "start_time": "2020-02-15T14:31:09.901360Z"
    }
   },
   "outputs": [
    {
     "data": {
      "image/png": "[encoded data removed]",
      "text/plain": [
       "<Figure size 432x288 with 1 Axes>"
      ]
     },
     "metadata": {
      "needs_background": "light"
     },
     "output_type": "display_data"
    }
   ],
   "source": [
    "plt.plot(loss_tr_count,label='Train Loss')\n",
    "plt.plot(dev_loss_count,label='Validation Loss')\n",
    "plt.legend(loc=\"upper right\")\n",
    "plt.ylabel(\"Loss\")\n",
    "plt.xlabel(\"Number of Epochs\")\n",
    "plt.title(\"Loss over Epochs\")\n",
    "\n",
    "plt.show()\n"
   ]
  },
  {
   "cell_type": "markdown",
   "metadata": {},
   "source": [
    "Plot training and validation process and explain if your model overfit, underfit or is about right:"
   ]
  },
  {
   "cell_type": "markdown",
   "metadata": {},
   "source": [
    "This graph suggests that the model is overfitting a tiny bit. This can be see from the fact that both plots rates of loss look to be similar with only a little bit of seperation. It also suggests that that the model capacity isnt high enough so to improve this model would be to increase the number of parameters"
   ]
  },
  {
   "cell_type": "markdown",
   "metadata": {},
   "source": [
    "Compute accuracy, precision, recall and F1-scores:"
   ]
  },
  {
   "cell_type": "code",
   "execution_count": 355,
   "metadata": {
    "ExecuteTime": {
     "end_time": "2020-02-15T14:32:12.606498Z",
     "start_time": "2020-02-15T14:32:12.604164Z"
    }
   },
   "outputs": [
    {
     "name": "stdout",
     "output_type": "stream",
     "text": [
      "Confusion Matix\n",
      "[[260.  18.  22.]\n",
      " [ 14. 281.   5.]\n",
      " [ 51.   8. 241.]]\n",
      "Accuracy: 0.8688888888888889\n",
      "Precision: 0.8715210591991184\n",
      "Recall: 0.8688888888888888\n",
      "F1-Score: 0.8688188195620731\n"
     ]
    }
   ],
   "source": [
    "# predict\n",
    "preds_te = predict_class(X_test_count, w_count).squeeze()\n",
    "\n",
    "print(\"Confusion Matix\")\n",
    "print(conf(preds_te, Y_test - 1))\n",
    "print('Accuracy:', accuracy_score(Y_test - 1, preds_te))\n",
    "print('Precision:', precision_score(Y_test - 1, preds_te, average='macro'))\n",
    "print('Recall:', recall_score(Y_test - 1, preds_te, average='macro'))\n",
    "print('F1-Score:', f1_score(Y_test - 1, preds_te, average='macro'))"
   ]
  },
  {
   "cell_type": "markdown",
   "metadata": {},
   "source": [
    "Print the top-10 words for each class respectively."
   ]
  },
  {
   "cell_type": "code",
   "execution_count": 356,
   "metadata": {
    "ExecuteTime": {
     "end_time": "2020-02-15T14:32:26.224693Z",
     "start_time": "2020-02-15T14:32:26.221886Z"
    }
   },
   "outputs": [
    {
     "name": "stdout",
     "output_type": "stream",
     "text": [
      "Class One: \n",
      "[('reuters',), ('athens',), ('oil',), ('afp',), ('president',), ('prices',), ('greece',), ('olympic',), ('athens', 'greece'), ('united',)]\n",
      "\n",
      "Class Two: \n",
      "[('athens',), ('reuters',), ('olympic',), ('team',), ('night',), ('win',), ('gold',), ('games',), ('olympics',), ('year',)]\n",
      "\n",
      "Class Three: \n",
      "[('reuters',), ('oil',), ('prices',), ('company',), ('york',), ('year',), ('percent',), ('quot',), ('oil', 'prices'), ('billion',)]\n"
     ]
    }
   ],
   "source": [
    "one = np.argsort(w_count)[0][::-1]\n",
    "two = np.argsort(w_count)[1][::-1]\n",
    "three = np.argsort(w_count)[2][::-1]\n",
    "print(\"Class One: \")\n",
    "print([v_id[x] for x in one][:10])\n",
    "print()\n",
    "print(\"Class Two: \")\n",
    "print([v_id[x] for x in two][:10])\n",
    "print()\n",
    "print(\"Class Three: \")\n",
    "print([v_id[x] for x in three][:10])"
   ]
  },
  {
   "cell_type": "markdown",
   "metadata": {},
   "source": [
    "comment on whether they make sense:\n",
    "These features make sense. Class One includes features related to \"World\"; Class Two includes features related to \"Sports\"; and Class Three includes features related to \"Business\". However, there are a lot of overlap accross classes. For example the feature \"reuters\" is in the top 2 for all classes."
   ]
  },
  {
   "cell_type": "markdown",
   "metadata": {},
   "source": [
    "If we were to apply the classifier we've learned into a different domain such laptop reviews or restaurant reviews, do you think these features would generalise well? Can you propose what features the classifier could pick up as important in the new domain?"
   ]
  },
  {
   "cell_type": "markdown",
   "metadata": {},
   "source": [
    "In terms of generalisability, this model would act very poorly as the model has been trained with only three specific topics. If a new topic is added, such as technology, then a new model would have to be trained to allow for this increase of classifier output otherwise misclassification will occur. However, in terms of classifing other news items from different sources could perform well."
   ]
  },
  {
   "cell_type": "markdown",
   "metadata": {},
   "source": [
    "### Discuss how did you choose model hyperparameters (e.g. learning rate and regularisation strength)? What is the relation between training epochs and learning rate? How the regularisation strength affects performance?"
   ]
  },
  {
   "cell_type": "markdown",
   "metadata": {
    "ExecuteTime": {
     "end_time": "2020-02-15T14:16:19.856538Z",
     "start_time": "2020-02-15T14:16:19.852547Z"
    }
   },
   "source": [
    "I chose my hyperparameters by using a very basic grid-search to go through a range of values (The ranges for both models were arbitrary for both models due to time taken to train the models). I went through each pair of values and evaluated its F1 score. I chose the pair that produced the highest F1 Score. If I had more time I would have tested more values as well as calculated an average for each pair to remove anomalous values.\n",
    "\n",
    "Smaller learning rates require more training epochs as each update only changes the weights a little, whereas larger learning rates result in larger jumps so require fewer epochs.\n",
    "\n",
    "A Regularisation value is a measure of the model's complexity. A Regularisation value encourages a model's weights, as well as its mean, to tend to zero. However, there is a trade-off with a large or small regularisation value. Too large and the model runs the risk of underfitting the data, and too small runs the risk of overfitting the data."
   ]
  },
  {
   "cell_type": "code",
   "execution_count": null,
   "metadata": {},
   "outputs": [],
   "source": []
  },
  {
   "cell_type": "code",
   "execution_count": 357,
   "metadata": {
    "scrolled": true
   },
   "outputs": [
    {
     "name": "stdout",
     "output_type": "stream",
     "text": [
      "0.1 0.0001\n",
      "0.1 1e-05\n",
      "0.1 1e-06\n",
      "0.01 0.0001\n",
      "0.01 1e-05\n",
      "0.01 1e-06\n",
      "0.001 0.0001\n",
      "0.001 1e-05\n",
      "0.001 1e-06\n",
      "Final {'learning_rate': 0.001, 'Alpha': 0.0001, 'f1': 0.8815144683496156}\n"
     ]
    }
   ],
   "source": [
    "# Init hyperparam space\n",
    "learning_rate = np.logspace(-1, -3, 3)\n",
    "alpha = np.logspace(-4, -6, 3)\n",
    "\n",
    "# Save best hyperparams in hash\n",
    "best = {\"learning_rate\" : 0, \"Alpha\" : 0, \"f1\" : 0} \n",
    "\n",
    "# for each hyperparam\n",
    "for rate in learning_rate :\n",
    "    for al in alpha :\n",
    "        print(rate,al)\n",
    "        w_tfidf, trl, devl = SGD(X_tr_tfidf, Y_tr - 1, \n",
    "                                 X_dev=X_dev_tfidf, \n",
    "                                 Y_dev=Y_dev - 1, \n",
    "                                 epochs=100,\n",
    "                                 lr = rate,\n",
    "                                 alpha=al,\n",
    "                                print_progress=False)\n",
    "        # Evaluate         \n",
    "        p = predict_class(X_test_tfidf, w_tfidf)\n",
    "        f1 = f1_score(Y_test - 1, p.squeeze(), average='macro')\n",
    "        if f1 > best[\"f1\"]:\n",
    "             best = {\"learning_rate\" : rate, \"Alpha\" : al, \"f1\" : f1}\n",
    "                    \n",
    "print(\"Final\", best)"
   ]
  },
  {
   "cell_type": "code",
   "execution_count": 358,
   "metadata": {
    "scrolled": true
   },
   "outputs": [
    {
     "name": "stdout",
     "output_type": "stream",
     "text": [
      "Epoch: 0 | Training loss: 1.5492263439697442 | Validation loss: 1.5768520621001325\n",
      "Epoch: 1 | Training loss: 1.4934446766651297 | Validation loss: 1.5457703268156944\n",
      "Epoch: 2 | Training loss: 1.4419061909969957 | Validation loss: 1.5161481322155956\n",
      "Epoch: 3 | Training loss: 1.3942758378850744 | Validation loss: 1.4879227746088652\n",
      "Epoch: 4 | Training loss: 1.3501164632679352 | Validation loss: 1.461004407356531\n",
      "Epoch: 5 | Training loss: 1.3090097042466897 | Validation loss: 1.4352855721102482\n",
      "Epoch: 6 | Training loss: 1.2706538662217488 | Validation loss: 1.410697284381645\n",
      "Epoch: 7 | Training loss: 1.2347668122281623 | Validation loss: 1.387161985251461\n",
      "Epoch: 8 | Training loss: 1.2011057480990865 | Validation loss: 1.3646076730633991\n",
      "Epoch: 9 | Training loss: 1.1694880963994736 | Validation loss: 1.3429824160905175\n",
      "Epoch: 10 | Training loss: 1.139736639195379 | Validation loss: 1.3222297140437207\n",
      "Epoch: 11 | Training loss: 1.111701414481293 | Validation loss: 1.302309301193003\n",
      "Epoch: 12 | Training loss: 1.0852503197814993 | Validation loss: 1.2831750097261077\n",
      "Epoch: 13 | Training loss: 1.0602621915342387 | Validation loss: 1.2647817710127531\n",
      "Epoch: 14 | Training loss: 1.0366264805401315 | Validation loss: 1.247094126702406\n",
      "Epoch: 15 | Training loss: 1.0142382934006884 | Validation loss: 1.230073693598378\n",
      "Epoch: 16 | Training loss: 0.9930095671646916 | Validation loss: 1.2136855969767881\n",
      "Epoch: 17 | Training loss: 0.9728579881877658 | Validation loss: 1.1978947082923954\n",
      "Epoch: 18 | Training loss: 0.9537102344077594 | Validation loss: 1.1826795523471414\n",
      "Epoch: 19 | Training loss: 0.935493635496598 | Validation loss: 1.1680068333704379\n",
      "Epoch: 20 | Training loss: 0.9181448416868335 | Validation loss: 1.1538502358239184\n",
      "Epoch: 21 | Training loss: 0.9016029851418722 | Validation loss: 1.1401830858690587\n",
      "Epoch: 22 | Training loss: 0.8858210013812645 | Validation loss: 1.126987179567643\n",
      "Epoch: 23 | Training loss: 0.8707482111779292 | Validation loss: 1.1142369681187172\n",
      "Epoch: 24 | Training loss: 0.856336193740278 | Validation loss: 1.1019095768819687\n",
      "Epoch: 25 | Training loss: 0.8425450453106949 | Validation loss: 1.0899857674457014\n",
      "Epoch: 26 | Training loss: 0.8293383559087659 | Validation loss: 1.0784496327921889\n",
      "Epoch: 27 | Training loss: 0.8166785898136837 | Validation loss: 1.0672843603554998\n",
      "Epoch: 28 | Training loss: 0.8045333907802409 | Validation loss: 1.056469048909277\n",
      "Epoch: 29 | Training loss: 0.7928718418678665 | Validation loss: 1.0459896391871142\n",
      "Epoch: 30 | Training loss: 0.7816686331374361 | Validation loss: 1.0358352091543506\n",
      "Epoch: 31 | Training loss: 0.7708952851887872 | Validation loss: 1.0259874123309318\n",
      "Epoch: 32 | Training loss: 0.7605309292923061 | Validation loss: 1.016436314262821\n",
      "Epoch: 33 | Training loss: 0.7505510822415856 | Validation loss: 1.0071654031017043\n",
      "Epoch: 34 | Training loss: 0.740934483933626 | Validation loss: 0.9981639693106625\n",
      "Epoch: 35 | Training loss: 0.7316626175278667 | Validation loss: 0.9894228759912945\n",
      "Epoch: 36 | Training loss: 0.7227175234487433 | Validation loss: 0.9809315755666823\n",
      "Epoch: 37 | Training loss: 0.7140814780130711 | Validation loss: 0.9726786460556301\n",
      "Epoch: 38 | Training loss: 0.7057409001854591 | Validation loss: 0.9646558149235983\n",
      "Epoch: 39 | Training loss: 0.697678973624688 | Validation loss: 0.9568506257620255\n",
      "Epoch: 40 | Training loss: 0.6898825462044585 | Validation loss: 0.9492582045181289\n",
      "Epoch: 41 | Training loss: 0.6823394971235963 | Validation loss: 0.9418684338333367\n",
      "Epoch: 42 | Training loss: 0.6750373902023137 | Validation loss: 0.9346742340789356\n",
      "Epoch: 43 | Training loss: 0.6679646707690712 | Validation loss: 0.9276682440042532\n",
      "Epoch: 44 | Training loss: 0.6611114263227637 | Validation loss: 0.9208436422011366\n",
      "Epoch: 45 | Training loss: 0.6544668846354269 | Validation loss: 0.9141928604661033\n",
      "Epoch: 46 | Training loss: 0.6480223548808712 | Validation loss: 0.9077110792105757\n",
      "Epoch: 47 | Training loss: 0.641767958692066 | Validation loss: 0.9013899806254045\n",
      "Epoch: 48 | Training loss: 0.6356959610804402 | Validation loss: 0.8952266969306745\n",
      "Epoch: 49 | Training loss: 0.6297990297798532 | Validation loss: 0.8892121424479161\n",
      "Epoch: 50 | Training loss: 0.6240693871253401 | Validation loss: 0.8833446137716755\n",
      "Epoch: 51 | Training loss: 0.6184995967503993 | Validation loss: 0.877616484842943\n",
      "Epoch: 52 | Training loss: 0.6130832565975577 | Validation loss: 0.8720239125721848\n",
      "Epoch: 53 | Training loss: 0.6078146986810018 | Validation loss: 0.8665626541809875\n",
      "Epoch: 54 | Training loss: 0.6026875296060286 | Validation loss: 0.8612281582088435\n",
      "Epoch: 55 | Training loss: 0.597696475392183 | Validation loss: 0.8560165790581605\n",
      "Epoch: 56 | Training loss: 0.592835799855437 | Validation loss: 0.850923022998189\n",
      "Epoch: 57 | Training loss: 0.588100418929732 | Validation loss: 0.8459437569387233\n",
      "Epoch: 58 | Training loss: 0.5834862748641484 | Validation loss: 0.8410757312576824\n",
      "Epoch: 59 | Training loss: 0.5789885059352826 | Validation loss: 0.8363148206026253\n",
      "Epoch: 60 | Training loss: 0.5746023719271213 | Validation loss: 0.8316585956703529\n",
      "Epoch: 61 | Training loss: 0.5703240471670863 | Validation loss: 0.8271033813525177\n",
      "Epoch: 62 | Training loss: 0.5661501860579996 | Validation loss: 0.82264552969499\n",
      "Epoch: 63 | Training loss: 0.5620763413992208 | Validation loss: 0.8182822779639646\n",
      "Epoch: 64 | Training loss: 0.5580989581535233 | Validation loss: 0.8140109034952479\n",
      "Epoch: 65 | Training loss: 0.5542149682786474 | Validation loss: 0.8098291884792723\n",
      "Epoch: 66 | Training loss: 0.5504206333918603 | Validation loss: 0.8057335454905515\n",
      "Epoch: 67 | Training loss: 0.546713371761394 | Validation loss: 0.8017225475258523\n",
      "Epoch: 68 | Training loss: 0.5430902706615734 | Validation loss: 0.7977930622908432\n",
      "Epoch: 69 | Training loss: 0.539548386876289 | Validation loss: 0.7939425799844174\n",
      "Epoch: 70 | Training loss: 0.5360853297085387 | Validation loss: 0.7901693242041409\n",
      "Epoch: 71 | Training loss: 0.5326984911072034 | Validation loss: 0.7864709248698198\n",
      "Epoch: 72 | Training loss: 0.5293854590780266 | Validation loss: 0.7828447675363988\n",
      "Epoch: 73 | Training loss: 0.5261435964332478 | Validation loss: 0.7792901570138613\n",
      "Epoch: 74 | Training loss: 0.5229710217538038 | Validation loss: 0.7758043080414423\n",
      "Epoch: 75 | Training loss: 0.5198652557111186 | Validation loss: 0.7723850279563681\n",
      "Epoch: 76 | Training loss: 0.5168240679282324 | Validation loss: 0.7690312873725416\n",
      "Epoch: 77 | Training loss: 0.5138456352816719 | Validation loss: 0.7657407736609707\n",
      "Epoch: 78 | Training loss: 0.5109286172466018 | Validation loss: 0.7625116165334487\n",
      "Epoch: 79 | Training loss: 0.508070692122886 | Validation loss: 0.7593428609213101\n",
      "Epoch: 80 | Training loss: 0.5052703650783112 | Validation loss: 0.756232815204053\n",
      "Epoch: 81 | Training loss: 0.5025256640755481 | Validation loss: 0.7531799015507121\n",
      "Epoch: 82 | Training loss: 0.49983478930045183 | Validation loss: 0.7501829805561502\n",
      "Epoch: 83 | Training loss: 0.4971970922644877 | Validation loss: 0.7472395249210357\n",
      "Epoch: 84 | Training loss: 0.4946105828319703 | Validation loss: 0.7443491513954731\n",
      "Epoch: 85 | Training loss: 0.49207361897141 | Validation loss: 0.7415103568794926\n",
      "Epoch: 86 | Training loss: 0.4895848126693119 | Validation loss: 0.7387215238706494\n",
      "Epoch: 87 | Training loss: 0.487143211315364 | Validation loss: 0.7359816908503234\n",
      "Epoch: 88 | Training loss: 0.48474726505348364 | Validation loss: 0.7332900844519596\n",
      "Epoch: 89 | Training loss: 0.48239618628343955 | Validation loss: 0.7306449080385496\n",
      "Epoch: 90 | Training loss: 0.48008832631453535 | Validation loss: 0.7280454316593122\n",
      "Epoch: 91 | Training loss: 0.4778223071298232 | Validation loss: 0.7254909306066991\n",
      "Epoch: 92 | Training loss: 0.47559767266682207 | Validation loss: 0.7229800180433963\n",
      "Epoch: 93 | Training loss: 0.47341320800863934 | Validation loss: 0.7205112727502971\n",
      "Epoch: 94 | Training loss: 0.4712676656070854 | Validation loss: 0.7180837403302598\n",
      "Epoch: 95 | Training loss: 0.46915985839087293 | Validation loss: 0.7156969397220809\n",
      "Epoch: 96 | Training loss: 0.4670893936183737 | Validation loss: 0.7133500613998939\n",
      "Epoch: 97 | Training loss: 0.465055037413056 | Validation loss: 0.7110417758078632\n"
     ]
    },
    {
     "name": "stdout",
     "output_type": "stream",
     "text": [
      "Epoch: 98 | Training loss: 0.46305594385827775 | Validation loss: 0.7087713753477446\n",
      "Epoch: 99 | Training loss: 0.4610914881749136 | Validation loss: 0.7065373937302709\n"
     ]
    }
   ],
   "source": [
    "w_tfidf, trl, devl = SGD(X_tr_tfidf, Y_tr - 1, \n",
    "                         X_dev=X_dev_tfidf, \n",
    "                         Y_dev=Y_dev - 1,\n",
    "                         lr = best[\"learning_rate\"],\n",
    "                         alpha=best[\"Alpha\"],\n",
    "                         epochs=100)"
   ]
  },
  {
   "cell_type": "code",
   "execution_count": 359,
   "metadata": {},
   "outputs": [
    {
     "data": {
      "image/png": "[encoded data removed]",
      "text/plain": [
       "<Figure size 432x288 with 1 Axes>"
      ]
     },
     "metadata": {
      "needs_background": "light"
     },
     "output_type": "display_data"
    }
   ],
   "source": [
    "plt.plot(trl,label='Train Loss')\n",
    "plt.plot(devl,label='Validation Loss')\n",
    "plt.legend(loc=\"upper left\")\n",
    "plt.ylabel(\"Loss\")\n",
    "plt.xlabel(\"Number of Epochs\")\n",
    "plt.title(\"Loss over Epochs\")\n",
    "\n",
    "plt.show()"
   ]
  },
  {
   "cell_type": "markdown",
   "metadata": {},
   "source": [
    "Plot training and validation process and explain if your model overfit, underfit or is about right:"
   ]
  },
  {
   "cell_type": "markdown",
   "metadata": {},
   "source": [
    "This graph suggests that the model is overfitting a tiny bit. This can be see from the fact that both plots rates of loss look to be similar with only a little bit of seperation. It also suggests that that the model capacity isnt high enough so to improve this model would be to increase the number of parameters"
   ]
  },
  {
   "cell_type": "code",
   "execution_count": 360,
   "metadata": {},
   "outputs": [
    {
     "name": "stdout",
     "output_type": "stream",
     "text": [
      "Confusion Matix\n",
      "[[258.  21.  21.]\n",
      " [  7. 290.   3.]\n",
      " [ 45.   9. 246.]]\n",
      "Accuracy: 0.8822222222222222\n",
      "Precision: 0.8832063918757468\n",
      "Recall: 0.8822222222222221\n",
      "F1-Score: 0.8815144683496156\n"
     ]
    }
   ],
   "source": [
    "preds_te = predict_class(X_test_tfidf, w_tfidf).squeeze()\n",
    "\n",
    "print(\"Confusion Matix\")\n",
    "print(conf(preds_te, Y_test - 1))\n",
    "\n",
    "print('Accuracy:', accuracy_score(Y_test - 1, preds_te))\n",
    "print('Precision:', precision_score(Y_test - 1, preds_te, average='macro'))\n",
    "print('Recall:', recall_score(Y_test - 1, preds_te, average='macro'))\n",
    "print('F1-Score:', f1_score(Y_test - 1, preds_te, average='macro'))"
   ]
  },
  {
   "cell_type": "code",
   "execution_count": 361,
   "metadata": {},
   "outputs": [
    {
     "name": "stdout",
     "output_type": "stream",
     "text": [
      "Class One: \n",
      "[('afp',), ('president',), ('reuters',), ('people',), ('government',), ('city',), ('iraq',), ('officials',), ('minister',), ('united',)]\n",
      "\n",
      "Class Two: \n",
      "[('athens',), ('olympic',), ('team',), ('night',), ('games',), ('olympics',), ('win',), ('gold',), ('athens', 'reuters'), ('season',)]\n",
      "\n",
      "Class Three: \n",
      "[('company',), ('oil',), ('reuters',), ('prices',), ('york',), ('percent',), ('billion',), ('corp',), ('business',), ('sales',)]\n"
     ]
    }
   ],
   "source": [
    "one = np.argsort(w_tfidf)[0][::-1]\n",
    "two = np.argsort(w_tfidf)[1][::-1]\n",
    "three = np.argsort(w_tfidf)[2][::-1]\n",
    "print(\"Class One: \")\n",
    "print([v_id[x] for x in one][:10])\n",
    "print()\n",
    "print(\"Class Two: \")\n",
    "print([v_id[x] for x in two][:10])\n",
    "print()\n",
    "print(\"Class Three: \")\n",
    "\n",
    "print([v_id[x] for x in three][:10])"
   ]
  },
  {
   "cell_type": "markdown",
   "metadata": {},
   "source": [
    "comment on whether they make sense:\n",
    "These features make sense. Class One includes features related to \"World\"; Class Two includes features related to \"Sports\"; and Class Three includes features related to \"Business\". \n",
    "\n",
    "Compared to the raw count features these features have a lot less overlap and each class seems to be a lot more context specific. This can be seen in the increased F1-score."
   ]
  },
  {
   "cell_type": "markdown",
   "metadata": {},
   "source": [
    "If we were to apply the classifier we've learned into a different domain such laptop reviews or restaurant reviews, do you think these features would generalise well? Can you propose what features the classifier could pick up as important in the new domain?"
   ]
  },
  {
   "cell_type": "markdown",
   "metadata": {},
   "source": [
    "In terms of generalisability, this model would act very poorly as the model has been trained with only three specific topics. If a new topic is added, such as technology, then a new model would have to be trained to allow for this increase of classifier output otherwise misclassification will occur. However, in terms of classifing other news items from different sources could perform well."
   ]
  },
  {
   "cell_type": "markdown",
   "metadata": {},
   "source": [
    "### Discuss how did you choose model hyperparameters (e.g. learning rate and regularisation strength)? What is the relation between training epochs and learning rate? How the regularisation strength affects performance?"
   ]
  },
  {
   "cell_type": "markdown",
   "metadata": {
    "ExecuteTime": {
     "end_time": "2020-02-15T14:16:19.856538Z",
     "start_time": "2020-02-15T14:16:19.852547Z"
    }
   },
   "source": [
    "I chose my hyperparameters by using a very basic grid-search to go through a range of values (The ranges for both models were arbitrary for both models due to time taken to train the models). I went through each pair of values and evaluated its F1 score. I chose the pair that produced the highest F1 Score. If I had more time I would have tested more values as well as calculated an average for each pair to remove anomalous values.\n",
    "\n",
    "Smaller learning rates require more training epochs as each update only changes the weights a little, whereas larger learning rates result in larger jumps so require fewer epochs.\n",
    "\n",
    "A Regularisation value is a measure of the model's complexity. A Regularisation value encourages a model's weights, as well as its mean, to tend to zero. However, there is a trade-off with a large or small regularisation value. Too large and the model runs the risk of underfitting the data, and too small runs the risk of overfitting the data."
   ]
  },
  {
   "cell_type": "markdown",
   "metadata": {
    "ExecuteTime": {
     "end_time": "2020-02-15T14:16:42.567569Z",
     "start_time": "2020-02-15T14:16:42.562560Z"
    }
   },
   "source": [
    "## Full Results\n",
    "\n",
    "Add here your results: to 3s.f.\n",
    "\n",
    "| LR | Precision  | Recall  | F1-Score  |\n",
    "|:-:|:-:|:-:|:-:|\n",
    "| BOW-count  |  0.872 | 0.869|  0.869|\n",
    "| BOW-tfidf  | 0.883  |  0.882| 0.882 |\n"
   ]
  },
  {
   "cell_type": "code",
   "execution_count": 362,
   "metadata": {},
   "outputs": [
    {
     "name": "stdout",
     "output_type": "stream",
     "text": [
      "Total Time = 0:15:42.337432\n"
     ]
    }
   ],
   "source": [
    "current_time = datetime.now() - now\n",
    "print(\"Total Time =\", current_time)"
   ]
  },
  {
   "cell_type": "code",
   "execution_count": null,
   "metadata": {},
   "outputs": [],
   "source": []
  },
  {
   "cell_type": "code",
   "execution_count": null,
   "metadata": {},
   "outputs": [],
   "source": []
  },
  {
   "cell_type": "code",
   "execution_count": null,
   "metadata": {},
   "outputs": [],
   "source": []
  }
 ],
 "metadata": {
  "kernelspec": {
   "display_name": "text",
   "language": "python",
   "name": "text"
  },
  "language_info": {
   "codemirror_mode": {
    "name": "ipython",
    "version": 3
   },
   "file_extension": ".py",
   "mimetype": "text/x-python",
   "name": "python",
   "nbconvert_exporter": "python",
   "pygments_lexer": "ipython3",
   "version": "3.7.7"
  }
 },
 "nbformat": 4,
 "nbformat_minor": 2
}
